{
 "cells": [
  {
   "cell_type": "markdown",
   "metadata": {},
   "source": [
    "The following data can be accessed in GA via the \"Events\" Tab. Methods for cleaning these data are almost the same.\n",
    "\n",
    "\n",
    "1) Decision Tool Clicks (e.g., brain fog)\n",
    "\n",
    "2) Decision Filter Clicks (e.g., try-it-yourself)\n",
    "\n",
    "3) Am I in Menopause results (eg., Perimenopause)\n"
   ]
  },
  {
   "cell_type": "code",
   "execution_count": 19,
   "metadata": {},
   "outputs": [],
   "source": [
    "import pandas as pd # Pandas is an open source library providing high-performance, easy-to-use data structures and data analysis tools for Python\n",
    "import json # JSON encoder and decoder for Python\n",
    "import re\n",
    "from functools import reduce\n",
    "import numpy as np\n",
    "from math import isnan\n",
    "import matplotlib.pyplot as plt\n",
    "import operator\n",
    "import datetime\n",
    "import seaborn as sns\n",
    "from datetime import *\n",
    "\n",
    "name = \"Analytics Pilot View Session Duration and Page Views By ID 20220111-20220118\"\n",
    "pilot_file_loc = \"C:/Users/huixin/OneDrive - UC San Diego/menoplan/trial_phase/\"\n",
    "path = pilot_file_loc + \"ga_data/\" + name\n",
    "allD=pd.read_csv(pilot_file_loc + \"cleaned_data/allDatajan.csv\")"
   ]
  },
  {
   "cell_type": "code",
   "execution_count": 20,
   "metadata": {},
   "outputs": [
    {
     "data": {
      "text/plain": [
       "'C:/Users/huixin/OneDrive - UC San Diego/menoplan/trial_phase/ga_data/Analytics Pilot View Session Duration and Page Views By ID 20220111-20220118'"
      ]
     },
     "execution_count": 20,
     "metadata": {},
     "output_type": "execute_result"
    }
   ],
   "source": [
    "#pd.read_csv(path, skiprows=5).iloc[-10:,:]"
   ]
  },
  {
   "cell_type": "code",
   "execution_count": 31,
   "metadata": {},
   "outputs": [
    {
     "data": {
      "text/html": [
       "<div>\n",
       "<style scoped>\n",
       "    .dataframe tbody tr th:only-of-type {\n",
       "        vertical-align: middle;\n",
       "    }\n",
       "\n",
       "    .dataframe tbody tr th {\n",
       "        vertical-align: top;\n",
       "    }\n",
       "\n",
       "    .dataframe thead th {\n",
       "        text-align: right;\n",
       "    }\n",
       "</style>\n",
       "<table border=\"1\" class=\"dataframe\">\n",
       "  <thead>\n",
       "    <tr style=\"text-align: right;\">\n",
       "      <th></th>\n",
       "      <th>IP Address</th>\n",
       "      <th>Date</th>\n",
       "      <th>Session Duration</th>\n",
       "      <th>Sessions</th>\n",
       "      <th>Pages / Session</th>\n",
       "    </tr>\n",
       "  </thead>\n",
       "  <tbody>\n",
       "    <tr>\n",
       "      <th>0</th>\n",
       "      <td>107.115.177.49</td>\n",
       "      <td>20220116</td>\n",
       "      <td>00:17:08</td>\n",
       "      <td>2.0</td>\n",
       "      <td>6.5</td>\n",
       "    </tr>\n",
       "    <tr>\n",
       "      <th>1</th>\n",
       "      <td>107.127.18.33</td>\n",
       "      <td>20220116</td>\n",
       "      <td>00:24:09</td>\n",
       "      <td>2.0</td>\n",
       "      <td>18.0</td>\n",
       "    </tr>\n",
       "    <tr>\n",
       "      <th>2</th>\n",
       "      <td>108.1.147.234</td>\n",
       "      <td>20220117</td>\n",
       "      <td>00:07:03</td>\n",
       "      <td>2.0</td>\n",
       "      <td>5.5</td>\n",
       "    </tr>\n",
       "    <tr>\n",
       "      <th>3</th>\n",
       "      <td>108.28.29.199</td>\n",
       "      <td>20220116</td>\n",
       "      <td>00:23:17</td>\n",
       "      <td>2.0</td>\n",
       "      <td>11.5</td>\n",
       "    </tr>\n",
       "  </tbody>\n",
       "</table>\n",
       "</div>"
      ],
      "text/plain": [
       "       IP Address      Date Session Duration  Sessions  Pages / Session\n",
       "0  107.115.177.49  20220116         00:17:08       2.0              6.5\n",
       "1   107.127.18.33  20220116         00:24:09       2.0             18.0\n",
       "2   108.1.147.234  20220117         00:07:03       2.0              5.5\n",
       "3   108.28.29.199  20220116         00:23:17       2.0             11.5"
      ]
     },
     "execution_count": 31,
     "metadata": {},
     "output_type": "execute_result"
    }
   ],
   "source": [
    "ga_data = pd.read_csv(path, skiprows=5).iloc[:-10,:]\n",
    "ga_data.head(4)"
   ]
  },
  {
   "cell_type": "code",
   "execution_count": 36,
   "metadata": {},
   "outputs": [
    {
     "data": {
      "image/png": "[encoded data removed]",
      "text/plain": [
       "<Figure size 432x288 with 1 Axes>"
      ]
     },
     "metadata": {
      "needs_background": "light"
     },
     "output_type": "display_data"
    },
    {
     "name": "stdout",
     "output_type": "stream",
     "text": [
      "0.5625\n",
      "0.7\n",
      "80\n"
     ]
    }
   ],
   "source": [
    "ga_data = ga_data.rename(columns={'IP Address': 'IPAddress_p2' #'Avg. Time on Page': 'muTimeOnPage'\n",
    "                                 })\n",
    "ga_data.head(4)\n",
    "from datetime import *\n",
    "#ga_data = ga_data.drop(columns=[\"Event Value\", 'Avg. Value'])\n",
    "ga_data['durSession'] = pd.to_timedelta(ga_data['Session Duration']).dt.total_seconds().astype(int)/60\n",
    "eventsPerId = ga_data.groupby(['IPAddress_p2'], as_index=False).agg({'durSession':'mean'})\n",
    "a= eventsPerId['durSession']\n",
    "a.plot.hist(weights = np.ones_like(a.index) / len(a.index), bins=10)\n",
    "plt.axvline(x=20, color='r', linestyle='-')\n",
    "plt.show()\n",
    "\n",
    "print(len(a[a>=20])/len(a))\n",
    "print(len(a[a>=15])/len(a))\n",
    "print(len(a))"
   ]
  },
  {
   "cell_type": "code",
   "execution_count": 37,
   "metadata": {},
   "outputs": [
    {
     "name": "stderr",
     "output_type": "stream",
     "text": [
      "C:\\Users\\huixin\\anaconda3\\lib\\site-packages\\outdated\\utils.py:18: OutdatedPackageWarning: The package pingouin is out of date. Your version is 0.4.0, the latest is 0.5.0.\n",
      "Set the environment variable OUTDATED_IGNORE=1 to disable these warnings.\n",
      "  **kwargs\n"
     ]
    },
    {
     "data": {
      "image/png": "[encoded data removed]",
      "text/plain": [
       "<Figure size 432x288 with 1 Axes>"
      ]
     },
     "metadata": {
      "needs_background": "light"
     },
     "output_type": "display_data"
    },
    {
     "data": {
      "text/plain": [
       "<matplotlib.axes._subplots.AxesSubplot at 0x2c06ce595c8>"
      ]
     },
     "execution_count": 37,
     "metadata": {},
     "output_type": "execute_result"
    },
    {
     "data": {
      "image/png": "[encoded data removed]",
      "text/plain": [
       "<Figure size 432x288 with 1 Axes>"
      ]
     },
     "metadata": {
      "needs_background": "light"
     },
     "output_type": "display_data"
    }
   ],
   "source": [
    "allD['IPAddress_p2']\n",
    "df = pd.merge(allD, ga_data, on=['IPAddress_p2'])\n",
    "df['durationMins_p2']\n",
    "import pingouin as pg\n",
    "\n",
    "a = df[[\"durSession\", \"durationMins_p2\", \"StartDate_p2\", \"EndDate_p2\"]]\n",
    "a.to_csv('site_survey_dur_menoplan.csv')\n",
    "\n",
    "pg.corr((a['durSession']/a['durationMins_p2']), a['durationMins_p2'])\n",
    "a['durationMins_p2'].hist()\n",
    "plt.show()\n",
    "(a['durSession']/a['durationMins_p2']).hist()"
   ]
  },
  {
   "cell_type": "raw",
   "metadata": {},
   "source": [
    "eventsPerId.to_csv(file_loc + \"decision_tool_clicks_nov02.csv\")"
   ]
  },
  {
   "cell_type": "code",
   "execution_count": null,
   "metadata": {},
   "outputs": [],
   "source": [
    "ga_data = pd.read_csv(\"C:/Users/huixin/Dropbox/research/menoplan/beta_phase/ga_data/02nov_decision_filter.csv\")\n",
    "ga_data = ga_data.rename(columns={'IP Address': 'IPAddress', 'Avg. Time on Page': 'muTimeOnPage'})\n",
    "ga_data.head(4)"
   ]
  },
  {
   "cell_type": "code",
   "execution_count": null,
   "metadata": {},
   "outputs": [],
   "source": [
    "#ga_data = ga_data.drop(columns=[\"Event Value\", 'Avg. Value'])\n",
    "\n",
    "decisionFilPerId = ga_data.groupby(['IPAddress', 'Event Label'], as_index=False).agg({'Total Events':'mean'})\n",
    "#viewsPerPageById.columns = viewsPerPageById.columns.str.strip('/?=')\n",
    "#viewsPerPageById= viewsPerPageById.rename(columns={\"\": \"homepage\"})\n",
    "decisionFilPerId = decisionFilPerId.groupby(['IPAddress', 'Event Label'])['Total Events'].agg(\"mean\").unstack(level=1)\n",
    "ls = list(decisionFilPerId.columns)\n",
    "#ls\n",
    "\n",
    "r = re.compile('\\d*([.,\\/]?\\d+)')# use regex to find dates\n",
    "newlist = list(filter(r.match, ls))\n",
    "newlist.append(\"Day Index\") # create list of dates \n",
    "decisionFilPerId = decisionFilPerId.drop(columns=newlist) #we do not want the dates\n",
    "\n",
    "decisionFilPerId = decisionFilPerId.fillna(0)\n",
    "IPAdCol = list(decisionFilPerId.index)       \n",
    "IPCol = [x for x in IPAdCol if '.' in x]\n",
    "#decisionFilPerId = decisionFilPerId.groupby(['IPAddress', 'Event Label'])['Total Events'].agg(\"mean\").unstack(level=1)\n",
    "decisionFilPerId = decisionFilPerId.loc[IPCol]"
   ]
  },
  {
   "cell_type": "code",
   "execution_count": null,
   "metadata": {},
   "outputs": [],
   "source": [
    "decisionFilPerId.to_csv(file_loc + \"decision_filter_clicks_nov02.csv\")"
   ]
  },
  {
   "cell_type": "code",
   "execution_count": null,
   "metadata": {},
   "outputs": [],
   "source": [
    "ga_data = pd.read_csv(\"C:/Users/huixin/Dropbox/research/menoplan/beta_phase/ga_data/02nov_am_i_in_menopause_results.csv\")\n",
    "ga_data = ga_data.rename(columns={'IP Address': 'IPAddress', 'Avg. Time on Page': 'muTimeOnPage'})\n",
    "ga_data.head(4)"
   ]
  },
  {
   "cell_type": "code",
   "execution_count": null,
   "metadata": {},
   "outputs": [],
   "source": [
    "#group data by the same IP and Event Label, and aggregate if there are rows with same IP and Event Label by calculating the mean of those rows\n",
    "amIinMenopause = ga_data.groupby(['IPAddress', 'Event Label'], as_index=False).agg({'Total Events':'mean'})"
   ]
  },
  {
   "cell_type": "code",
   "execution_count": null,
   "metadata": {},
   "outputs": [],
   "source": [
    "# Pivot a level of the (necessarily hierarchical) index labels\n",
    "amIinMenopause = amIinMenopause.groupby(['IPAddress', 'Event Label'])['Total Events'].agg(\"mean\").unstack(level=1)"
   ]
  },
  {
   "cell_type": "code",
   "execution_count": null,
   "metadata": {},
   "outputs": [],
   "source": [
    "ls = list(amIinMenopause.columns)\n",
    "r = re.compile('\\d*([.,\\/]?\\d+)')# use regex to find dates\n",
    "newlist = list(filter(r.match, ls))\n",
    "newlist.append(\"Day Index\") # create list of dates \n",
    "amIinMenopause = amIinMenopause.drop(columns=newlist) #we do not want the dates\n",
    "\n",
    "amIinMenopause = amIinMenopause.fillna(0)\n",
    "IPAdCol = list(amIinMenopause.index)       \n",
    "IPCol = [x for x in IPAdCol if '.' in x]\n",
    "amIinMenopause = amIinMenopause.loc[IPCol]"
   ]
  },
  {
   "cell_type": "code",
   "execution_count": null,
   "metadata": {},
   "outputs": [],
   "source": [
    "amIinMenopause.to_csv(file_loc + \"am_i_in_menopause_02nov.csv\")"
   ]
  },
  {
   "cell_type": "code",
   "execution_count": null,
   "metadata": {},
   "outputs": [],
   "source": [
    "allEventsPerId = pd.concat([decisionFilPerId,  eventsPerId, amIinMenopause])\n",
    "allEventsPerId.to_csv(file_loc + \"allEventsPerId_02nov.csv\")"
   ]
  },
  {
   "cell_type": "code",
   "execution_count": null,
   "metadata": {},
   "outputs": [],
   "source": []
  },
  {
   "cell_type": "code",
   "execution_count": null,
   "metadata": {},
   "outputs": [],
   "source": []
  }
 ],
 "metadata": {
  "kernelspec": {
   "display_name": "Python 3",
   "language": "python",
   "name": "python3"
  },
  "language_info": {
   "codemirror_mode": {
    "name": "ipython",
    "version": 3
   },
   "file_extension": ".py",
   "mimetype": "text/x-python",
   "name": "python",
   "nbconvert_exporter": "python",
   "pygments_lexer": "ipython3",
   "version": "3.7.6"
  }
 },
 "nbformat": 4,
 "nbformat_minor": 4
}
