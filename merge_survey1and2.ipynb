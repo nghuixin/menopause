{
 "cells": [
  {
   "cell_type": "code",
   "execution_count": 1,
   "metadata": {},
   "outputs": [],
   "source": [
    "import pandas as pd # Pandas is an open source library providing data structures and data analysis tools for Python\n",
    "import re #regex\n",
    "from functools import reduce \n",
    "import numpy as np\n",
    "from math import isnan\n",
    "import matplotlib.pyplot as plt\n",
    "import urllib.request\n",
    "import json\n",
    "from datetime import date\n",
    "from datetime import datetime"
   ]
  },
  {
   "cell_type": "markdown",
   "metadata": {},
   "source": [
    "#### TODAY'S DATE"
   ]
  },
  {
   "cell_type": "code",
   "execution_count": 2,
   "metadata": {},
   "outputs": [
    {
     "name": "stdout",
     "output_type": "stream",
     "text": [
      "737\n"
     ]
    }
   ],
   "source": [
    "def containQuoteMarks(string):\n",
    "    if string.startswith(\"\\\"\") and string.endswith(\"\\\"\"):\n",
    "        return True\n",
    "today = 'jan'\n",
    "beta_file_loc =  \"C:/Users/huixin/OneDrive - UC San Diego/menoplan/pilot_phase/merged_analysis/\"\n",
    "pilot_file_loc = \"C:/Users/huixin/OneDrive - UC San Diego/menoplan/trial_phase/\"\n",
    "cleaned = pd.read_csv(pilot_file_loc + \"cleaned_data/p2/cleaned\" + today  + \"_p2.csv\")\n",
    "#screening = pd.read_csv(pilot_file_loc +\"qualtrics_data/\" + today+ \"/\"+ today+ \"_p1.csv\")\n",
    "#screening=screening.iloc[2:] #drop first two rows\n",
    "mo='jan'\n",
    "allDays = [str(d)+mo for d in range(12,24)]\n",
    "li=[]\n",
    "for d in allDays: #survey 1 only\n",
    "    df = pd.read_csv(pilot_file_loc +\"qualtrics_data/\" + d + \"/\"+ d + \"_p1.csv\")\n",
    "    df = df.iloc[2:] \n",
    "    li.append(df)\n",
    "p1 = pd.concat(li, axis=0, ignore_index=True)\n",
    "screening= p1\n",
    "screening=screening.add_suffix('_p1')\n",
    "screening=screening.rename(columns={#'IPAddress_p1':'IPAddress_p2', \n",
    "                                   'Duration (in seconds)_p1': 'durationMins_p1'})\n",
    "#Merge using Email Address\n",
    "cleaned['EmailMerge'] = cleaned['RecipientEmail_p2']\n",
    "screening['EmailMerge'] = screening['Email_p1']\n",
    "allD = pd.merge(screening, cleaned, on=['EmailMerge'], how='inner')\n",
    "allD['durationMins_p1']=(pd.to_numeric(allD['durationMins_p1'])/60)\n",
    "allD['Q_RecaptchaScore_p1']=pd.to_numeric(allD['Q_RecaptchaScore_p1'])\n",
    "allD['Q_RelevantIDFraudScore_p1']=pd.to_numeric(allD['Q_RelevantIDFraudScore_p1'])\n",
    "allD['cityName_p2']=allD['cityName_p2'].str.replace('city =', '') #remove string in front\n",
    "allD['cityName_p1']=allD['cityName_p1'].str.replace('city =', '')\n",
    "\n",
    "#THIS CONTAINS FRAUDULENT ENTRIES\n",
    "allD  = allD[allD[\"I-Information_4_p2\"].str.contains(\"Hui Xin\")==False]#drop all rows that contain hui xin \n",
    "allD=allD.drop_duplicates()# delete any rows that are the same\n",
    "allD['IPFreq']=allD['IPAddress_p2'].map(allD['IPAddress_p2'].value_counts())#count frequency of IP addresses\n",
    "\n",
    "print(len(allD))\n",
    "runChecks = allD"
   ]
  },
  {
   "cell_type": "code",
   "execution_count": 3,
   "metadata": {},
   "outputs": [
    {
     "name": "stdout",
     "output_type": "stream",
     "text": [
      "737\n"
     ]
    }
   ],
   "source": [
    "conDf = runChecks\n",
    "print(len(conDf))\n",
    "def getLsLen(string):\n",
    "    li = list(string.split(\",\"))\n",
    "    return len(li)\n",
    "\n",
    "##### create 'selectAll' col that checks if participant selects all options on a multi-choice question\n",
    "conDf['selectAll']=conDf[\"I-Peri_Meno_Experie_p2\"].apply(lambda x: (getLsLen(str(x))))\n",
    "#calculate percentage of NAs for each condition\n",
    "importantQCols = conDf.iloc[:, 48:-24].columns\n",
    "conDf['percentNA_p2'] = conDf[importantQCols].isna().sum(axis = 1)/len(conDf[importantQCols].columns)\n",
    "#check if street address has quotation marks around\n",
    "conDf['QuoteMarks']= conDf['I-Information_5_p2'].apply(lambda x: containQuoteMarks(str(x)))\n",
    "#check if they picked \n",
    "conDf['passATT']=(conDf['I-ATT-CHECK1_p2']==1) | (conDf['I-ATT-CHECK2_p2']!=5) \n",
    "\n",
    "cond1=conDf[\"I-Peri_Meno_Experie_p2\"].str.contains(',11') #select other options even though selected 'I refuse to answer'\n",
    "\n",
    "#cond2=conDf[\"I-ATT-CHECK1_p2\"] != 1 #Did not select 'Strongly Agree'\n",
    "#cond3=conDf[\"I-ATT-CHECK2_p2\"] != 5 #Did not select 'Strongly Disagree'\n",
    "\n",
    "cond5=conDf['passATT'] != True\n",
    "cond6 = ~conDf['Randomization_2_p2'].isin(list(np.arange(61, 82, 1))) #age out of range\n",
    "cond7 = ~conDf['I-Gender_p2'].isin([1,4,5]) #not female, transgender male, or non binary\n",
    "conDf['IPAddDup_p2']=conDf.duplicated(['IPAddress_p2']) #IP address duplicated\n",
    "\n",
    "cond8= conDf['IPAddDup_p2'] ==True #IP address duplicated\n",
    "cond9=conDf['durationMins_p2'] <=2 #finished survey in less than 2 mins\n",
    "#cond10 = conDf['zipcodeX_p2'] != True #entered zipcode's state does not match entered state\n",
    "cond4=conDf['RecipientEmail_p2'].str.isupper() #all Caps, was the email variable removed?\n",
    "cond11 = conDf['selectAll'] == 11\n",
    "cond12 = conDf['durationMins_p2'] < 30\n",
    "\n",
    "recaptcha = conDf['Q_RecaptchaScore_p2'] < 0.5 \n",
    "cond13=conDf['Q_RelevantIDFraudScore_p2'] >=30\n",
    "cond14 = conDf['Q_RelevantIDDuplicate_p2']==True\n",
    "\n",
    "recaptcha_p1 = conDf['Q_RecaptchaScore_p1'] < 0.5\n",
    "cBot=conDf['Q_RelevantIDFraudScore_p1'] >= 30\n",
    "cDuplicateBool=conDf['Q_RelevantIDDuplicate_p1']==True\n",
    "allD['Fraud'] = False\n",
    "numFraudPerCheck = []\n",
    "conNoFraud = allD\n",
    "\n",
    "for x in [recaptcha, recaptcha_p1 , cBot,cDuplicateBool,cond1, cond5 , cond4 , \n",
    "          cond6, cond7, cond8,cond9, cond11, cond12\n",
    "         , cond13, cond14]:\n",
    "    if (x.any()==True):\n",
    "        allD.loc[allD[x].index, 'Fraud'] = True\n",
    "        numFraudPerCheck.append({x.name: len(allD[x])})\n",
    "nData=len(allD)\n",
    "allD.sort_values(by=['IPAddress_p2']).to_csv(pilot_file_loc+\"cleaned_data/allData\"+ today+ \".csv\", index=False)"
   ]
  },
  {
   "cell_type": "code",
   "execution_count": 4,
   "metadata": {
    "scrolled": true
   },
   "outputs": [
    {
     "name": "stdout",
     "output_type": "stream",
     "text": [
      "Percent of surveys that failed the following checks among 737 surveys\n",
      "Q_RecaptchaScore_p2          0.005\n",
      "Q_RecaptchaScore_p1          0.005\n",
      "Q_RelevantIDFraudScore_p1    0.052\n",
      "passATT                      0.153\n",
      "Randomization_2_p2           0.008\n",
      "I-Gender_p2                  0.486\n",
      "IPAddDup_p2                  0.005\n",
      "durationMins_p2              0.278\n",
      "Q_RelevantIDFraudScore_p2    0.054\n",
      "Q_RelevantIDDuplicate_p2     0.012\n",
      "dtype: float64\n"
     ]
    }
   ],
   "source": [
    "percentFraudEachVar = pd.DataFrame.from_dict(numFraudPerCheck).sum()/len(allD)\n",
    "print(\"Percent of surveys that failed the following checks among \" + str(len(allD)) + \" surveys\")\n",
    "print(round(percentFraudEachVar, 3))"
   ]
  },
  {
   "cell_type": "code",
   "execution_count": 5,
   "metadata": {},
   "outputs": [],
   "source": [
    "#Examples of duplicated IPAddresses in survey 2 due to fraud\n",
    "#conDf[conDf.duplicated(['IPAddress_p2']) == True].sort_values(by=['StartDate_p1','IPAddress_p2'])"
   ]
  },
  {
   "cell_type": "markdown",
   "metadata": {},
   "source": [
    "### Remove all Fraudulent Entries"
   ]
  },
  {
   "cell_type": "code",
   "execution_count": 6,
   "metadata": {
    "scrolled": true
   },
   "outputs": [
    {
     "name": "stderr",
     "output_type": "stream",
     "text": [
      "C:\\Users\\huixin\\anaconda3\\lib\\site-packages\\ipykernel_launcher.py:6: UserWarning: Boolean Series key will be reindexed to match DataFrame index.\n",
      "  \n",
      "C:\\Users\\huixin\\anaconda3\\lib\\site-packages\\ipykernel_launcher.py:8: UserWarning: Boolean Series key will be reindexed to match DataFrame index.\n",
      "  \n"
     ]
    },
    {
     "data": {
      "text/plain": [
       "218"
      ]
     },
     "execution_count": 6,
     "metadata": {},
     "output_type": "execute_result"
    }
   ],
   "source": [
    "totalPercentFraud = []\n",
    "for x in [recaptcha, recaptcha_p1 , cBot,cDuplicateBool,cond1, cond5 , cond4 , \n",
    "          cond6, cond7, cond8,cond9, cond11, cond12\n",
    "         , cond13, cond14]:\n",
    "    if (x.any()==True):\n",
    "       totalPercentFraud.append({x.name: len(conNoFraud[x])})\n",
    "       #conNoFraud[]\n",
    "       conNoFraud.drop(conNoFraud[x].index, inplace = True) \n",
    "#totalPercentFraud\n",
    "len(conDf)"
   ]
  },
  {
   "cell_type": "code",
   "execution_count": 7,
   "metadata": {},
   "outputs": [
    {
     "name": "stdout",
     "output_type": "stream",
     "text": [
      "Percent of surveys that are fraudulent, out of 737 surveys\n"
     ]
    },
    {
     "data": {
      "text/plain": [
       "0.7042062415196744"
      ]
     },
     "execution_count": 7,
     "metadata": {},
     "output_type": "execute_result"
    }
   ],
   "source": [
    "print('Percent of surveys that are fraudulent, out of ' + str((nData)) + ' surveys')\n",
    "pd.DataFrame.from_dict(totalPercentFraud).sum().sum()/(nData)\n"
   ]
  },
  {
   "cell_type": "code",
   "execution_count": 8,
   "metadata": {},
   "outputs": [],
   "source": [
    "#CONTAINS NO FRAUDULENT USER DATA, WITH PERSONAL INFORMATION\n",
    "conNoFraud.to_csv(pilot_file_loc + \"cleaned_data/noFraud/noFraud\"+ today+\".csv\", index=False)"
   ]
  },
  {
   "cell_type": "markdown",
   "metadata": {},
   "source": [
    "### Remove all Fraudulent Enries and Personal Information"
   ]
  },
  {
   "cell_type": "code",
   "execution_count": 9,
   "metadata": {},
   "outputs": [],
   "source": [
    "allDRemoveId = conNoFraud\n",
    "allDRemoveId = (allDRemoveId.drop(['RecipientLastName_p1','RecipientFirstName_p1','RecipientEmail_p1',\n",
    " 'ExternalReference_p1',\n",
    " 'LocationLatitude_p1','LocationLongitude_p1', 'IPAddress_p2' ,'LocationLatitude_p2', 'LocationLongitude_p2','RecipientEmail_p2',\n",
    " 'RecipientFirstName_p2','RecipientLastName_p2', 'I-Phone_p2', 'I-Phonex2_p2', 'Email_p1','Email2_p1', 'Email_p2', 'I-Information_11_p2',\n",
    " 'I-Information_16_p2', 'I-Information_4_p2','I-Information_5_p2','I-Information_7_p2','I-Information_8_p2','I-Information_9_p2'], axis=1))\n",
    "\n",
    "###  FRAUDULENT ENTRIES AND PERSONAL IDENTIFIERS REMOVED - ANON DATA WITH NO FRAUDSTERS\n",
    "allDRemoveId.to_csv(pilot_file_loc + \"anonymized_data/noFraudAnon\"+ today+\".csv\", index=False)"
   ]
  },
  {
   "cell_type": "code",
   "execution_count": 10,
   "metadata": {},
   "outputs": [
    {
     "data": {
      "text/plain": [
       "['StartDate_p1',\n",
       " 'EndDate_p1',\n",
       " 'Status_p1',\n",
       " 'IPAddress_p1',\n",
       " 'Progress_p1',\n",
       " 'durationMins_p1',\n",
       " 'Finished_p1',\n",
       " 'RecordedDate_p1',\n",
       " 'ResponseId_p1',\n",
       " 'RecipientLastName_p1',\n",
       " 'RecipientFirstName_p1',\n",
       " 'RecipientEmail_p1',\n",
       " 'ExternalReference_p1',\n",
       " 'LocationLatitude_p1',\n",
       " 'LocationLongitude_p1',\n",
       " 'DistributionChannel_p1',\n",
       " 'UserLanguage_p1',\n",
       " 'Q_RecaptchaScore_p1',\n",
       " 'Q_RelevantIDDuplicate_p1',\n",
       " 'Q_RelevantIDDuplicateScore_p1',\n",
       " 'Q_RelevantIDFraudScore_p1',\n",
       " 'Q_RelevantIDLastStartDate_p1',\n",
       " 'Q15_p1',\n",
       " 'IS1_p1',\n",
       " 'SQ1_p1',\n",
       " 'SQ2_p1',\n",
       " 'SQ3_p1',\n",
       " 'SQ4_p1',\n",
       " 'BrowserInfo_Browser_p1',\n",
       " 'BrowserInfo_Version_p1',\n",
       " 'BrowserInfo_Operating System_p1',\n",
       " 'BrowserInfo_Resolution_p1',\n",
       " 'Email_p1',\n",
       " 'Email2_p1',\n",
       " 'QCity_ExportTag_p1',\n",
       " 'QState_ExportTag_p1',\n",
       " 'Referer_p1',\n",
       " 'cityName_p1',\n",
       " 'Q_URL_p1',\n",
       " 'Q_BallotBoxStuffing_p1',\n",
       " 'Q17_Browser_p1',\n",
       " 'Q17_Version_p1',\n",
       " 'Q17_Operating System_p1',\n",
       " 'Q17_Resolution_p1',\n",
       " 'countryName_p1',\n",
       " 'EmailMerge',\n",
       " 'Cond_p2',\n",
       " 'DistributionChannel_p2',\n",
       " 'Educ_p2',\n",
       " 'Email_p2',\n",
       " 'EndDate_p2',\n",
       " 'EndVisitTs_p2',\n",
       " 'Ethnicity_p2',\n",
       " 'ExternalReference_p2',\n",
       " 'Finished_p2',\n",
       " 'I-ABH#_p2',\n",
       " 'I-AI#_p2',\n",
       " 'I-AL#_p2',\n",
       " 'I-AMJ#_p2',\n",
       " 'I-ATT-CHECK1_p2',\n",
       " 'I-ATT-CHECK2_p2',\n",
       " 'I-BDL#_p2',\n",
       " 'I-BF/CI#_p2',\n",
       " 'I-BIWO#_p2',\n",
       " 'I-Basics_p2',\n",
       " 'I-CATT#_p2',\n",
       " 'I-CSD#_p2',\n",
       " 'I-DE#_p2',\n",
       " 'I-DH#_p2',\n",
       " 'I-DPS#_p2',\n",
       " 'I-DS#.1_p2',\n",
       " 'I-DS#.2_p2',\n",
       " 'I-DS#_p2',\n",
       " 'I-EPM#_p2',\n",
       " 'I-Email_Link_p2',\n",
       " 'I-F/G#_p2',\n",
       " 'I-FA/N#_p2',\n",
       " 'I-FB#_p2',\n",
       " 'I-FDDB#_p2',\n",
       " 'I-FLE#_p2',\n",
       " 'I-FTW#_p2',\n",
       " 'I-FU#_p2',\n",
       " 'I-FWBA#_p2',\n",
       " 'I-Feedback_p2',\n",
       " 'I-Gender_p2',\n",
       " 'I-HF#_p2',\n",
       " 'I-HIP#_p2',\n",
       " 'I-HM#_p2',\n",
       " 'I-HP#_p2',\n",
       " 'I-IFH#_p2',\n",
       " 'I-IULC#_p2',\n",
       " 'I-Information_11_p2',\n",
       " 'I-Information_16_p2',\n",
       " 'I-Information_4_p2',\n",
       " 'I-Information_5_p2',\n",
       " 'I-Information_7_p2',\n",
       " 'I-Information_8_p2',\n",
       " 'I-Information_9_p2',\n",
       " 'I-Job Status_p2',\n",
       " 'I-Job_Status_p2',\n",
       " 'I-LB#_p2',\n",
       " 'I-Meno_Stage_Tran_p2',\n",
       " 'I-Meno_Stage_Trans_p2',\n",
       " 'I-Meno_Stage_p2',\n",
       " 'I-Menopause_Stage_p2',\n",
       " 'I-NS#_p2',\n",
       " 'I-Open Question_p2',\n",
       " 'I-OtherWebsite1_p2',\n",
       " 'I-OtherWebsite2_p2',\n",
       " 'I-Peri_Meno_Exper_p2',\n",
       " 'I-Peri_Meno_Experie_p2',\n",
       " 'I-Period_Stop_p2',\n",
       " 'I-Phone_p2',\n",
       " 'I-Phonex2_p2',\n",
       " 'I-S#_p2',\n",
       " 'I-Stage_DM_p2',\n",
       " 'I-Timing_Click Count_p2',\n",
       " 'I-Timing_First Click_p2',\n",
       " 'I-Timing_Last Click_p2',\n",
       " 'I-Timing_Page Submit_p2',\n",
       " 'I-Treat_Hormone_p2',\n",
       " 'I-Treat_Profess_p2',\n",
       " 'I-UTI#_p2',\n",
       " 'I-VPDNS#_p2',\n",
       " 'I-VPDS#_p2',\n",
       " 'I-WG#_p2',\n",
       " 'I-Web_Tools_p2',\n",
       " 'I-Website1_p2',\n",
       " 'I-Website2_p2',\n",
       " 'I-Website_Link_p2',\n",
       " 'I-gender_p2',\n",
       " 'I1-Atracti_Websit_p2',\n",
       " 'I1-Credibility_p2',\n",
       " 'I1-Informed_p2',\n",
       " 'I1-Int_future_use_p2',\n",
       " 'I1-Intent_Change_p2',\n",
       " 'I1-Knowledge_Gain_p2',\n",
       " 'I1-Literacy_Skills_p2',\n",
       " 'I1-Perceived_Quality_p2',\n",
       " 'I1-Progress_DM_p2',\n",
       " 'I1-RELEVANT_p2',\n",
       " 'I1-Readability_p2',\n",
       " 'I1-Self-effi_Treat_p2',\n",
       " 'I1-TALK TO DOCTOR_p2',\n",
       " 'I1-Uncertaintity_p2',\n",
       " 'I1-Useability_p2',\n",
       " 'I1-Values_Clarity_p2',\n",
       " 'I1.HF_p2',\n",
       " 'I10.FWBA_p2',\n",
       " 'I11.F/G_p2',\n",
       " 'I12.AMJ_p2',\n",
       " 'I13.FTW_p2',\n",
       " 'I14.DS_p2',\n",
       " 'I15.ABH_p2',\n",
       " 'I16.DPS_p2',\n",
       " 'I17.DS_p2',\n",
       " 'I18.FLE_p2',\n",
       " 'I19.DS_p2',\n",
       " 'I2-Credibility_p2',\n",
       " 'I2-Informed_p2',\n",
       " 'I2-Int_future_use_p2',\n",
       " 'I2-Intent_Change_p2',\n",
       " 'I2-Knowledge_Gain_p2',\n",
       " 'I2-Literacy_Skills_p2',\n",
       " 'I2-Perceived_Quality_p2',\n",
       " 'I2-Progress_DM_p2',\n",
       " 'I2-RELEVANT_p2',\n",
       " 'I2-Readability_p2',\n",
       " 'I2-Self-effi_Treat_p2',\n",
       " 'I2-TALK TO DOCTOR_p2',\n",
       " 'I2-Uncertaintity_p2',\n",
       " 'I2-Useability_p2',\n",
       " 'I2-Values_Clarity_p2',\n",
       " 'I2.NS_p2',\n",
       " 'I20.WG_p2',\n",
       " 'I21.IFH_p2',\n",
       " 'I22.CATT_p2',\n",
       " 'I23.DH_p2',\n",
       " 'I24.DE_p2',\n",
       " 'I25.FB_p2',\n",
       " 'I26.LB_p2',\n",
       " 'I27.HM_p2',\n",
       " 'I28.FU_p2',\n",
       " 'I29.IULC_p2',\n",
       " 'I3-Informed_p2',\n",
       " 'I3-Knowledge_Gain_p2',\n",
       " 'I3-Literacy_Skills_p2',\n",
       " 'I3-Perceived_Quality_p2',\n",
       " 'I3-Progress_DM_p2',\n",
       " 'I3-Useability_p2',\n",
       " 'I3-Values_Clarity_p2',\n",
       " 'I3.1-Useability_p2',\n",
       " 'I3.S_p2',\n",
       " 'I30.CSD_p2',\n",
       " 'I31.VPDS_p2',\n",
       " 'I32.VPDNS_p2',\n",
       " 'I33.AI_p2',\n",
       " 'I34.BF/CI_p2',\n",
       " 'I35.HP_p2',\n",
       " 'I36.HIP_p2',\n",
       " 'I37.UI_p2',\n",
       " 'I37.UTI_p2',\n",
       " 'I4-Knowledge_Gain_p2',\n",
       " 'I4-Literacy_Skills_p2',\n",
       " 'I4-Perceived_Quality_p2',\n",
       " 'I4-Progress_DM_p2',\n",
       " 'I4.BDL_p2',\n",
       " 'I5-Literacy_Skills_p2',\n",
       " 'I5-Perceived_Quality_p2',\n",
       " 'I5.FA/N_p2',\n",
       " 'I6-Literacy_Skills_p2',\n",
       " 'I6-Perceived_Quality_p2',\n",
       " 'I6.EPM_p2',\n",
       " 'I7-Literacy_Skills_p2',\n",
       " 'I7-Perceived_Quality_p2',\n",
       " 'I7.AL_p2',\n",
       " 'I8-Literacy_Skills_p2',\n",
       " 'I8.FDDB_p2',\n",
       " 'I9.BIWO_p2',\n",
       " 'IPAddress_p2',\n",
       " 'LinkSourceOpen_p2',\n",
       " 'LinkSource_p2',\n",
       " 'LocationLatitude_p2',\n",
       " 'LocationLongitude_p2',\n",
       " 'Progress_p2',\n",
       " 'QCity_ExportTag_p2',\n",
       " 'QState_ExportTag_p2',\n",
       " 'Q_BallotBoxStuffing_p2',\n",
       " 'Q_RecaptchaScore_p2',\n",
       " 'Q_RelevantIDDuplicateScore_p2',\n",
       " 'Q_RelevantIDDuplicate_p2',\n",
       " 'Q_RelevantIDFraudScore_p2',\n",
       " 'Q_RelevantIDLastStartDate_p2',\n",
       " 'Q_TotalDurationR_p2',\n",
       " 'Q_TotalDuration_p2',\n",
       " 'QuoteMarks',\n",
       " 'RandomBlockTimer_Click Count_p2',\n",
       " 'RandomBlockTimer_First Click_p2',\n",
       " 'RandomBlockTimer_Last Click_p2',\n",
       " 'RandomBlockTimer_Page Submit_p2',\n",
       " 'Randomization_1_p2',\n",
       " 'Randomization_2_p2',\n",
       " 'RecipientEmail_p2',\n",
       " 'RecipientFirstName_p2',\n",
       " 'RecipientLastName_p2',\n",
       " 'Referer_p2',\n",
       " 'ResponseId_p2',\n",
       " 'StartDate_p2',\n",
       " 'Status_p2',\n",
       " 'TypeWord_p2',\n",
       " 'UserLanguage_p2',\n",
       " 'cityName_p2',\n",
       " 'durationMins_p2',\n",
       " 'percentNA_p2',\n",
       " 'selectAll',\n",
       " 'IPFreq',\n",
       " 'passATT',\n",
       " 'IPAddDup_p2',\n",
       " 'Fraud']"
      ]
     },
     "execution_count": 10,
     "metadata": {},
     "output_type": "execute_result"
    }
   ],
   "source": [
    "list(allD.columns)"
   ]
  },
  {
   "cell_type": "code",
   "execution_count": null,
   "metadata": {},
   "outputs": [],
   "source": []
  }
 ],
 "metadata": {
  "kernelspec": {
   "display_name": "Python 3",
   "language": "python",
   "name": "python3"
  },
  "language_info": {
   "codemirror_mode": {
    "name": "ipython",
    "version": 3
   },
   "file_extension": ".py",
   "mimetype": "text/x-python",
   "name": "python",
   "nbconvert_exporter": "python",
   "pygments_lexer": "ipython3",
   "version": "3.7.6"
  }
 },
 "nbformat": 4,
 "nbformat_minor": 4
}
