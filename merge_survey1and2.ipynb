{
 "cells": [
  {
   "cell_type": "code",
   "execution_count": 345,
   "metadata": {},
   "outputs": [],
   "source": [
    "import pandas as pd # Pandas is an open source library providing data structures and data analysis tools for Python\n",
    "import re #regex\n",
    "from functools import reduce \n",
    "import numpy as np\n",
    "from math import isnan\n",
    "import matplotlib.pyplot as plt\n",
    "import urllib.request\n",
    "import json\n",
    "from datetime import date\n",
    "from datetime import datetime"
   ]
  },
  {
   "cell_type": "markdown",
   "metadata": {},
   "source": [
    "#### TODAY'S DATE"
   ]
  },
  {
   "cell_type": "code",
   "execution_count": 346,
   "metadata": {},
   "outputs": [],
   "source": [
    "today = '14jan'\n",
    "beta_file_loc =  \"C:/Users/huixin/OneDrive - UC San Diego/menoplan/pilot_phase/merged_analysis/\"\n",
    "pilot_file_loc = \"C:/Users/huixin/OneDrive - UC San Diego/menoplan/trial_phase/\"\n",
    "cleaned = pd.read_csv(pilot_file_loc + \"cleaned_data/cleaned\" + today  + \"_p2.csv\")\n",
    "screening = pd.read_csv(pilot_file_loc +\"qualtrics_data/\" + today+ \"/\"+ today+ \"_p1.csv\")\n",
    "screening=screening.iloc[2:] #drop first two rows\n",
    "screening=screening.add_suffix('_p1')\n",
    "\n",
    "screening=screening.rename(columns={'IPAddress_p1':'IPAddress_p2', \n",
    "                                   'Duration (in seconds)_p1': 'durationMins'})\n",
    "allD = pd.merge(screening, cleaned, on=['IPAddress_p2'], how='inner')\n",
    "allD['IPFreq']=allD['IPAddress_p2'].map(allD['IPAddress_p2'].value_counts())\n",
    "allD['durationMins']=pd.to_numeric(allD['durationMins'])\n",
    "allD.to_csv(pilot_file_loc+\"cleaned_data/allData\"+ today+ \".csv\")"
   ]
  },
  {
   "cell_type": "code",
   "execution_count": 347,
   "metadata": {},
   "outputs": [],
   "source": [
    "conDf = allD\n",
    "def getLsLen(string):\n",
    "    li = list(string.split(\",\"))\n",
    "    return len(li)\n",
    "\n",
    "recaptcha = conDf['Q_RecaptchaScore_p2'] < 0.8 \n",
    "##### create 'selectAll' col that checks if participant selects all options on a multi-choice question\n",
    "conDf['selectAll']=conDf[\"I-Peri_Meno_Experie_p2\"].apply(lambda x: (getLsLen(x)))\n",
    "#calculate percentage of NAs for each condition\n",
    "#conDf['percentNA_p2'] = expDf.iloc[:,27:].isna().sum(axis = 1)/len(expDf.iloc[:,27:].columns)\n",
    "#check if street address has quotation marks around\n",
    "conDf['QuoteMarks']= conDf['I-Information_5_p2'].apply(lambda x: containQuoteMarks(x))\n",
    "\n",
    "cond1=conDf[\"I-Peri_Meno_Experie_p2\"].str.contains(',11') #select other options even though selected 'I refuse to answer'\n",
    "cond2=conDf[\"I-ATT-CHECK1_p2\"] != 1 #Did not select 'Strongly Agree'\n",
    "cond3=conDf[\"I-ATT-CHECK2_p2\"] != 5 #Did not select 'Strongly Disagree'\n",
    "#cond5=conDf['C36.ATT CHECK_p2'].isna() #Did not select yes\n",
    "cond6 = ~conDf['Randomization_2_p2'].isin(list(np.arange(67, 82, 1))) #age out of range\n",
    "cond7 = conDf['I-Gender_p2'] != 1 #not female\n",
    "cond8=conDf.duplicated(['IPAddress_p2']) #IP address duplicated\n",
    "cond9=conDf['durationMins_p2'] <=2 #finished survey in less than 2 mins\n",
    "#cond10 = conDf['zipcodeX_p2'] != True #entered zipcode's state does not match entered state\n",
    "cond4=conDf['RecipientEmail_p2'].str.isupper() #all Caps, was the email variable removed?\n",
    "cond11 = conDf['selectAll'] == 11\n",
    "numFraudPerCheck = []\n",
    "conNoFraud = allD\n",
    "for x in [recaptcha  , cond1, cond2 , cond3 , cond4 , cond6, cond7, cond8,cond9, cond11]:\n",
    "    if (x.any()==True):\n",
    "        #print(x)\n",
    "        numFraudPerCheck.append({x.name: len(allD[x])})"
   ]
  },
  {
   "cell_type": "code",
   "execution_count": 348,
   "metadata": {},
   "outputs": [
    {
     "name": "stdout",
     "output_type": "stream",
     "text": [
      "Percent of surveys that failed the following checks among 17 surveys\n",
      "I-ATT-CHECK1_p2       0.059\n",
      "Randomization_2_p2    0.059\n",
      "dtype: float64\n"
     ]
    }
   ],
   "source": [
    "percentFraudEachVar = pd.DataFrame.from_dict(numFraudPerCheck).sum()/len(cleaned)\n",
    "print(\"Percent of surveys that failed the following checks among \" + str(len(cleaned)) + \" surveys\")\n",
    "print(round(percentFraudEachVar, 3))"
   ]
  },
  {
   "cell_type": "code",
   "execution_count": 349,
   "metadata": {},
   "outputs": [
    {
     "name": "stderr",
     "output_type": "stream",
     "text": [
      "C:\\Users\\huixin\\anaconda3\\lib\\site-packages\\ipykernel_launcher.py:5: UserWarning: Boolean Series key will be reindexed to match DataFrame index.\n",
      "  \"\"\"\n",
      "C:\\Users\\huixin\\anaconda3\\lib\\site-packages\\ipykernel_launcher.py:6: UserWarning: Boolean Series key will be reindexed to match DataFrame index.\n",
      "  \n"
     ]
    }
   ],
   "source": [
    "totalPercentFraud = []\n",
    "for x in [recaptcha  , cond1, cond2 , cond3 , cond4 , cond6, cond7, cond8,cond9, cond11]:\n",
    "    if (x.any()==True):\n",
    "       # print(allD[x][x.name])\n",
    "        totalPercentFraud.append({x.name: len(conNoFraud[x])})\n",
    "        conNoFraud.drop(conNoFraud[x].index, inplace = True) "
   ]
  },
  {
   "cell_type": "code",
   "execution_count": 350,
   "metadata": {},
   "outputs": [
    {
     "name": "stdout",
     "output_type": "stream",
     "text": [
      "Percent of surveys that are fraudulent, out of 17 surveys\n"
     ]
    },
    {
     "data": {
      "text/plain": [
       "0.11764705882352941"
      ]
     },
     "execution_count": 350,
     "metadata": {},
     "output_type": "execute_result"
    }
   ],
   "source": [
    "print('Percent of surveys that are fraudulent, out of ' + str(len(cleaned)) + ' surveys')\n",
    "pd.DataFrame.from_dict(totalPercentFraud).sum().sum()/len(cleaned)"
   ]
  },
  {
   "cell_type": "code",
   "execution_count": 352,
   "metadata": {},
   "outputs": [],
   "source": [
    "allDRemoveId = allD\n",
    "allDRemoveId = (allD.drop(['RecipientLastName_p1','RecipientFirstName_p1','RecipientEmail_p1',\n",
    " 'ExternalReference_p1',\n",
    " 'LocationLatitude_p1','LocationLongitude_p1', 'IPAddress_p2' ,'LocationLatitude_p2', 'LocationLongitude_p2','RecipientEmail_p2',\n",
    " 'RecipientFirstName_p2','RecipientLastName_p2', 'I-Phone_p2', 'I-Phonex2_p2', 'Email_p1','Email2_p1', 'Email_p2', 'I-Information_11_p2',\n",
    " 'I-Information_16_p2', 'I-Information_4_p2','I-Information_5_p2','I-Information_7_p2','I-Information_8_p2','I-Information_9_p2'], axis=1))\n",
    "null_cols = allDRemoveId.columns[allDRemoveId.isnull().all()]\n",
    "allDRemoveId.drop(null_cols, axis = 1, inplace = True)\n",
    "allDRemoveId.to_csv(\"allDataAnon\"+ today+\".csv\")"
   ]
  }
 ],
 "metadata": {
  "kernelspec": {
   "display_name": "Python 3",
   "language": "python",
   "name": "python3"
  },
  "language_info": {
   "codemirror_mode": {
    "name": "ipython",
    "version": 3
   },
   "file_extension": ".py",
   "mimetype": "text/x-python",
   "name": "python",
   "nbconvert_exporter": "python",
   "pygments_lexer": "ipython3",
   "version": "3.7.6"
  }
 },
 "nbformat": 4,
 "nbformat_minor": 4
}
