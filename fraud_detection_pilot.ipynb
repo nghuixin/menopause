{
 "cells": [
  {
   "cell_type": "markdown",
   "metadata": {},
   "source": [
    "### Menoplan Fraud Detection Protocol\n",
    "In this code we merge control and experimental condition data so they are in the same columns. \n"
   ]
  },
  {
   "cell_type": "code",
   "execution_count": 70,
   "metadata": {},
   "outputs": [],
   "source": [
    "import pandas as pd # Pandas is an open source library providing data structures and data analysis tools for Python\n",
    "import re #regex\n",
    "from functools import reduce \n",
    "import numpy as np\n",
    "from math import isnan\n",
    "import matplotlib.pyplot as plt\n",
    "import urllib.request\n",
    "import json\n",
    "from datetime import date\n",
    "from datetime import datetime\n",
    "today = 'jan'"
   ]
  },
  {
   "cell_type": "code",
   "execution_count": 71,
   "metadata": {},
   "outputs": [],
   "source": [
    "beta_file_loc =  \"C:/Users/huixin/OneDrive - UC San Diego/menoplan/pilot_phase/merged_analysis/\"\n",
    "pilot_file_loc = \"C:/Users/huixin/OneDrive - UC San Diego/menoplan/trial_phase/\"\n",
    "with open(pilot_file_loc+'CColNames.txt') as f:\n",
    "    CColNames = f.read().splitlines()\n",
    "with open(pilot_file_loc+'EColNames.txt') as f:\n",
    "    EColNames = f.read().splitlines()"
   ]
  },
  {
   "cell_type": "code",
   "execution_count": 72,
   "metadata": {},
   "outputs": [],
   "source": [
    "mo='jan'\n",
    "allDays = [str(d)+mo for d in range(12,24)]\n",
    "def getData(dates, surveyPart):\n",
    "    li=[]\n",
    "    for d in dates:\n",
    "        df = pd.read_csv(pilot_file_loc +\"qualtrics_data/\" + d + \"/\"+ d +surveyPart + \".csv\")\n",
    "        df = df.iloc[2:] \n",
    "        li.append(df)\n",
    "    joined = pd.concat(li, axis=0, ignore_index=True)\n",
    "    return joined\n",
    "p1= getData(allDays, \"_p1\")\n",
    "p2 = getData(allDays, \"_p2\")\n",
    "qualtrics_data = p2\n",
    "screening= p1\n",
    "screening=screening.drop_duplicates()\n",
    "screening=screening[screening[\"Email\"].str.contains(\"nghuixin@hotmail.com\")==False]\n",
    "screening=screening[screening[\"Email\"].str.contains(\"hxng@ucsd.edu\")==False]\n",
    "qualtrics_data=qualtrics_data.drop_duplicates()# delete any duplicates if entire rows are the same"
   ]
  },
  {
   "cell_type": "code",
   "execution_count": 73,
   "metadata": {},
   "outputs": [],
   "source": [
    "#helper functions\n",
    "def straightLining(condDf,  rowNum, colNames): #check if answers to questions in a row are the same\n",
    "    elems = list((condDf[colNames].eq(condDf[colNames].iloc[rowNum:rowNum+1, 0], axis=0).values)[0])\n",
    "    return elems.count(elems[0]) == len(elems) # are all elements in the list same?\n",
    "\n",
    "def replaceEmptyWithNAN(varname, dfName): #replace empty string with NAN and convert col to numeric\n",
    "    dfName[varname].replace(\" \", np.NaN, regex=True)\n",
    "    dfName[varname]=pd.to_numeric(dfName[varname])\n",
    "    \n",
    "def findState(zc):\n",
    "    for dct in js:\n",
    "        if dct.get(\"zip_code\") == zc:\n",
    "            return dct.get('state')\n",
    "        \n",
    "def containQuoteMarks(string):\n",
    "    if string.startswith(\"\\\"\") and string.endswith(\"\\\"\"):\n",
    "        return True \n",
    "def getLsLen(string):\n",
    "    if string == np.nan:\n",
    "        li = []\n",
    "    else:\n",
    "        li = (string.split(\",\"))\n",
    "    return len(li)\n",
    "\n",
    "# #data cleaning\n",
    "ga_data = pd.read_csv(beta_file_loc + \"02nov_merged_pageviews_events_os.csv\")\n",
    "qualtrics_data.columns = qualtrics_data.columns.str.replace('Infromation', 'Information')\n",
    "qualtrics_data.loc[qualtrics_data['C-Timing_First Click'].isna() , 'Cond'] = 'Exp' #create new col to indicate condition\n",
    "qualtrics_data.loc[~qualtrics_data['C-Timing_First Click'].isna() , 'Cond'] = 'Ctrl'\n",
    "qualtrics_data = qualtrics_data.rename(columns= #rename cols\n",
    "                                       {'RecordedDate': 'EndVisitTs',\n",
    "                                        'Duration (in seconds)': 'durationMins' }) "
   ]
  },
  {
   "cell_type": "code",
   "execution_count": 74,
   "metadata": {
    "scrolled": true
   },
   "outputs": [],
   "source": [
    "#convert to numeric, replace ' ' with NAN\n",
    "ls = ['C-Gender', 'E-gender', 'Q_RecaptchaScore','Randomization_2','Randomization_1', 'C-ATT-CHECK1', \n",
    "      'C-ATT-CHECK2', 'E-ATT-CHECK1', 'E-ATT-CHECK2',\n",
    "    #  'C-Age', 'E-Age',  use birthdate var instead\n",
    "      'durationMins'] #convert to numeric\n",
    "for x in ls:\n",
    "    replaceEmptyWithNAN(x, qualtrics_data)\n",
    "for x in ['Q_RelevantIDDuplicateScore','Q_RelevantIDFraudScore', 'Q_RecaptchaScore' ]:\n",
    "    replaceEmptyWithNAN(x, screening)   \n",
    "qualtrics_data['durationMins'] = qualtrics_data['durationMins']/60 #convert duration from secs to mins\n",
    "first_column =qualtrics_data.pop('Cond')# shift column 'Cond' to first position\n",
    "qualtrics_data.insert(0, 'Cond', first_column)  \n",
    "qualtrics_data = qualtrics_data.add_suffix('_p2') #add _p2 to each col to indicate this is part 2 of survey"
   ]
  },
  {
   "cell_type": "markdown",
   "metadata": {},
   "source": [
    "#### Inattention\n",
    "1. Unusually short period of time exploring the study websites (&lt; 10 minutes) `p1p2df['StartDate_p2']- p1p2['EndDate']`  \n",
    "    - Check the timing of when they start answering this question. and when they first entered the survey: Please think about your experience with the information on the website. How much do you agree or disagree with each statement?\n",
    "2. Unusually short survey completion times (&lt; 2 minutes)  `['durationMins']`\n",
    "3. Selection of all items in multiple response questions \n",
    "    - find variable names of multiple-response questions\n",
    "    - check if all answers were selected  `selectAll`\n",
    "4. Selection of same response to all items in a list of possible items (straight lining) \n",
    "    - find variable names of multiple-response questions \n",
    "        - Check if same `straightLining\n",
    "5. Failure to answer attention check correctly.`['Q_RecaptchaScore'] >= 80`\n",
    "\n",
    "#### Duplicate or unusual responses to open-ended items\n",
    "1. Several responses follow the same pattern in terms of phrasing or format  \n",
    "    - check if open ended answers are duplicated\n",
    "2. Nonsensical or non-matching response to open ended questions \n",
    "    - check manually\n",
    "    \n",
    "#### Other inconsistent or unusual responses\n",
    "1. High level of nonresponse to survey questions or refusal, >10% - Done 2. Mismatched survey answers (for example 2 different menopause stages, presence/absence of menopause symptoms)  - Done\n",
    "3. Age out of range (&lt;40, &gt; 55) - Done\n",
    "4. Male sex - Done\n",
    "5. Indicated wrong study source - TBA\n",
    "6. Look to see if strange links are sites that direct people to make money \n",
    "    - check traffic from GA for Menoplan Website\n",
    "7. Duplicate open-ended responses - Done\n",
    "\n",
    "#### Inconsistent responses to verifiable items\n",
    "1. Suspicious email address (for example at least 10 random numbers or letters in a row or strange punctuation or capitalization) `['?-Email_p2'].str.isupper()`\n",
    "\n",
    "2. Time of submission (for example, 12-4 am)\n",
    "3. Business vs personal address - Manual Check, Spokeo\n",
    "4. Address not real - Manual Check, Spokeo\n",
    "5. Address includes quotations marks - Done\n",
    "6. Name/suffix suspicious - Manual Check, Spokeo\n",
    "7. Business vs. personal phone number - Manual Check, Spokeo\n",
    "8. Entered zipcode and state mismatch - Done\n",
    "9. IP address not in the U.S. - Manual Check, Spokeo \n",
    "10. IP address appears on more than one entry "
   ]
  },
  {
   "cell_type": "code",
   "execution_count": 75,
   "metadata": {},
   "outputs": [],
   "source": [
    "first30Cols = list(qualtrics_data.iloc[:,:30].columns)\n",
    "last12Cols = list(qualtrics_data.iloc[:,-12:].columns)"
   ]
  },
  {
   "cell_type": "code",
   "execution_count": 76,
   "metadata": {},
   "outputs": [],
   "source": [
    "conDf = qualtrics_data[first30Cols + CColNames + last12Cols] #subset only columns relevant to control condition (C-)\n",
    "expDf = qualtrics_data[first30Cols +EColNames+ last12Cols]\n"
   ]
  },
  {
   "cell_type": "code",
   "execution_count": 77,
   "metadata": {},
   "outputs": [],
   "source": [
    "conDf =conDf[conDf['Cond_p2'] == 'Ctrl'] #subset only  rows from control condition participants\n",
    "expDf =expDf[expDf['Cond_p2'] == 'Exp'] #subset only rows from experiment condition participants"
   ]
  },
  {
   "cell_type": "markdown",
   "metadata": {},
   "source": [
    "####  Screening Survey\n",
    "In addition to procedure above, we can also use the relevantID feature from qualtrics, we can find out the likeliness a survey is duplicated.\n",
    "- https://www.qualtrics.com/support/survey-platform/survey-module/survey-checker/fraud-detection/"
   ]
  },
  {
   "cell_type": "code",
   "execution_count": 78,
   "metadata": {},
   "outputs": [
    {
     "name": "stdout",
     "output_type": "stream",
     "text": [
      "1224 Total Survey 1 Participants\n",
      "55 Total Survey 1 Fraudsters\n",
      "1169 Total Survey 1 Real Participants\n"
     ]
    }
   ],
   "source": [
    "cDuplicateScore=screening['Q_RelevantIDDuplicateScore'] >= 75 \n",
    "cBot=screening['Q_RelevantIDFraudScore'] >= 30\n",
    "cDuplicateBool=screening['Q_RelevantIDDuplicate']==True\n",
    "recaptcha_p1 = screening['Q_RecaptchaScore']<0.5\n",
    "nFraud = cDuplicateScore | cBot| cDuplicateBool|recaptcha_p1\n",
    "print(str(len(screening)) + ' Total Survey 1 Participants')\n",
    "print(str(len(screening[nFraud])) + ' Total Survey 1 Fraudsters')\n",
    "print(str(len(screening[~nFraud])) + ' Total Survey 1 Real Participants')"
   ]
  },
  {
   "cell_type": "code",
   "execution_count": 79,
   "metadata": {},
   "outputs": [],
   "source": [
    "expCols = EColNames\n",
    "conCols = CColNames\n",
    "varE = []\n",
    "for x in expCols:\n",
    "    if x.startswith('E'):\n",
    "        s = x.replace('E', 'I', 1)\n",
    "        varE.append(s)\n",
    "newEColNames = first30Cols+ varE + last12Cols   \n",
    "        \n",
    "varC = []\n",
    "for x in conCols:\n",
    "    if x.startswith('C'):\n",
    "        s = x.replace('C', 'I', 1)\n",
    "        varC.append(s) \n",
    "newCColNames = first30Cols + varC + last12Cols  "
   ]
  },
  {
   "cell_type": "code",
   "execution_count": 80,
   "metadata": {},
   "outputs": [],
   "source": [
    "#create 'selectAll' col that checks if participant selects all options on a multi-choice question\n",
    "expDf['selectAll']=expDf[\"E-Peri_Meno_Exper_p2\"].apply(lambda x: getLsLen(str(x)))\n",
    "# check if the zipcode entered matches the state entered (experimental condition)\n",
    "#expDf['zipcodeState'] = expDf['E-Information_9_p2'].str[0:5].astype('int') #.apply(lambda x: findState(x))#\n",
    "#expDf['E-Information_8_p2'] = expDf['E-Information_8_p2'].apply(lambda x: str(x)).apply(lambda x: x.upper())\n",
    "#expDf['zipcodeX_p2']=expDf['E-Information_8_p2'].isin(expDf.zipcodeState) \n",
    "#calculate percentage of NAs for each condition\n",
    "expDf['percentNA_p2'] = expDf.iloc[:,27:].isna().sum(axis = 1)/len(expDf.iloc[:,27:].columns)\n",
    "#check if street address has quotation marks around\n",
    "expDf['QuoteMarks']= expDf['E-Information_5_p2'].apply(lambda x: containQuoteMarks(str(x)))\n",
    "#now we can begin to run the fraud detection procedure \n",
    "# recaptcha = expDf['Q_RecaptchaScore_p2'] < 0.8 #recaptcha accuracy less than 80%\n",
    "# cond1=expDf[\"E-Peri_Meno_Exper_p2\"].str.contains(',11') #select other options even though selected 'I refuse to answer'\n",
    "# cond2=expDf[\"E-ATT-CHECK1_p2\"] != 5 #Did not select 'Strongly Agree'\n",
    "# cond3=expDf[\"E-ATT-CHECK2_p2\"] != 1 #Did not select 'Strongly Disagree'\n",
    "# cond4=expDf['E-Web_Tools_p2'].str.contains(',14')#select other options even though selected 'I refuse to answer'\n",
    "\n",
    "# cond6 = ~expDf['Randomization_2_p2'].isin(list(np.arange(61, 82, 1)))  #age out of range\n",
    "# cond7 = ~(expDf['E-gender_p2']).isin([1,4,5]) #not female\n",
    "# cond8=expDf.duplicated(['IPAddress_p2']) #IP address duplicated\n",
    "# cond9=expDf['durationMins_p2'] <30 #finished survey in less than 2 mins\n",
    "# #cond10 = expDf['zipcodeX_p2'] != True #entered zipcode's state does not match entered state\n",
    "# cond11=expDf['RecipientEmail_p2'].str.isupper()\n",
    "# cond12 = expDf['selectAll'] == 11"
   ]
  },
  {
   "cell_type": "code",
   "execution_count": 81,
   "metadata": {},
   "outputs": [],
   "source": [
    "##### create 'selectAll' col that checks if participant selects all options on a multi-choice question\n",
    "conDf['selectAll']=conDf[\"C-Peri_Meno_Experie_p2\"].apply(lambda x: (getLsLen(x)))\n",
    "# check if zipcode entered matches the state entered (control condition)\n",
    "conDf['C-Information_9_p2']= (conDf['C-Information_9_p2'].str[:5])\n",
    "#conDf['zipcodeState'] = conDf['C-Information_9_p2'].astype('int')# .apply(lambda x: findState(x))\n",
    "#conDf['C-Information_8_p2'] = conDf['C-Information_8_p2'].apply(lambda x: str(x)).apply(lambda x: x.upper())\n",
    "#conDf['zipcodeX_p2']=conDf['C-Information_8_p2'].isin(conDf.zipcodeState)\n",
    "#calculate percentage of NAs for each condition\n",
    "conDf['percentNA_p2'] = conDf.iloc[:,27:].isna().sum(axis = 1)/len(conDf.iloc[:,27:].columns)\n",
    "\n",
    "conDf['QuoteMarks']= conDf['C-Information_5_p2'].apply(lambda x: containQuoteMarks(str(x)))"
   ]
  },
  {
   "cell_type": "code",
   "execution_count": 82,
   "metadata": {},
   "outputs": [],
   "source": [
    "# rename variables so that they are the same to the control's wording \n",
    "expDf=expDf.rename(columns= #rename cols\n",
    "                                       {'I-gender_p2': 'I-Gender_p2',\n",
    "                                        'I37.UTI_p2': 'I37.UI_p2',\n",
    "                                       'I-Job_Status_p2': 'I-Job Status_p2',\n",
    "                                       'I-Peri_Meno_Exper_p2':'I-Peri_Meno_Experie_p2',\n",
    "                                       'I-Meno_Stage_Tran_p2': 'I-Meno_Stage_Trans_p2',\n",
    "                                       'I-Menopause_Stage_p2':'I-Meno_Stage_p2'}) \n",
    "expDf=expDf.iloc[:,:].set_axis([newEColNames+ ['selectAll', 'percentNA_p2', 'QuoteMarks']], axis=1)\n",
    "conDf=conDf.iloc[:, :].set_axis([newCColNames+ ['selectAll', 'percentNA_p2', 'QuoteMarks']], axis=1)"
   ]
  },
  {
   "cell_type": "markdown",
   "metadata": {},
   "source": [
    "#### Which variables are in control condition but not in experimental condition?\n",
    "`set(varC) - set(varE)\n",
    "{'I-Email_Link_p2', #specific to control\n",
    "  'I-Gender_p2',\n",
    " 'I-Job Status_p2',\n",
    " 'I-Meno_Stage_Trans_p2',\n",
    " 'I-Meno_Stage_p2',\n",
    " 'I-OtherWebsite1_p2', #specific to control\n",
    " 'I-OtherWebsite2_p2', #specific to control\n",
    " 'I-Peri_Meno_Experie_p2',\n",
    " 'I-Website1_p2', #specific to control\n",
    " 'I-Website2_p2', #specific to control\n",
    " 'I37.UI_p2'}`"
   ]
  },
  {
   "cell_type": "markdown",
   "metadata": {},
   "source": [
    "#### Which variables are in experimental  condition but not in  control condition?\n",
    "`{'I-Job_Status_p2',\n",
    " 'I-Meno_Stage_Tran_p2',\n",
    " 'I-Menopause_Stage_p2',\n",
    " 'I-Peri_Meno_Exper_p2',\n",
    " 'I-Web_Tools_p2', #specific to exp\n",
    " 'I-Website_Link_p2', #specific to exp\n",
    " 'I-gender_p2',\n",
    " 'I3.1-Useability_p2', #specific to exp\n",
    " 'I37.UTI_p2'}`"
   ]
  },
  {
   "cell_type": "code",
   "execution_count": 83,
   "metadata": {},
   "outputs": [],
   "source": [
    "# create csv for today's data\n",
    "allD = pd.concat([expDf, conDf])\n",
    "allD.to_csv(pilot_file_loc + \"cleaned_data/p2/cleaned\" + today + \"_p2.csv\", index=False)"
   ]
  },
  {
   "cell_type": "markdown",
   "metadata": {},
   "source": [
    "#### How long does it take for participant to move from first o second survey?\n",
    "We need to merge the first and second survey using `IPAddress` var to calculate the duration taken to complete the survey. Rename var `IPAddress_p2` to `IPAddress` so that they are mergeable. The merged df is called `p1p2df`. "
   ]
  },
  {
   "cell_type": "code",
   "execution_count": 84,
   "metadata": {
    "scrolled": true
   },
   "outputs": [
    {
     "data": {
      "text/plain": [
       "0     0 days 00:00:36\n",
       "1     0 days 00:15:16\n",
       "2     0 days 00:01:14\n",
       "3     0 days 00:01:46\n",
       "4     0 days 00:01:11\n",
       "            ...      \n",
       "620   0 days 02:45:24\n",
       "621   0 days 00:02:50\n",
       "622   0 days 12:53:16\n",
       "623   0 days 01:07:10\n",
       "624   0 days 00:01:32\n",
       "Length: 625, dtype: timedelta64[ns]"
      ]
     },
     "execution_count": 84,
     "metadata": {},
     "output_type": "execute_result"
    }
   ],
   "source": [
    "screening['EndDate']=pd.to_datetime(screening['EndDate'])#when did they finished survey 1\n",
    "qualtrics_data['StartDate_p2']=pd.to_datetime(qualtrics_data['StartDate_p2'])#when did they start survey 2\n",
    "qualtrics_data['EndDate_p2']=pd.to_datetime(qualtrics_data['EndDate_p2'])\n",
    "#rename column from p2 survey to match columns on IP Address\n",
    "qualtrics_data=qualtrics_data.rename(columns= {'IPAddress_p2':'IPAddress'})\n",
    "p1p2df = pd.merge(qualtrics_data, screening, on='IPAddress')  \n",
    "(p1p2df['StartDate_p2']-p1p2df['EndDate'])#.hist()"
   ]
  },
  {
   "cell_type": "code",
   "execution_count": null,
   "metadata": {
    "scrolled": true
   },
   "outputs": [],
   "source": []
  },
  {
   "cell_type": "code",
   "execution_count": null,
   "metadata": {},
   "outputs": [],
   "source": []
  }
 ],
 "metadata": {
  "kernelspec": {
   "display_name": "Python 3",
   "language": "python",
   "name": "python3"
  },
  "language_info": {
   "codemirror_mode": {
    "name": "ipython",
    "version": 3
   },
   "file_extension": ".py",
   "mimetype": "text/x-python",
   "name": "python",
   "nbconvert_exporter": "python",
   "pygments_lexer": "ipython3",
   "version": "3.7.6"
  }
 },
 "nbformat": 4,
 "nbformat_minor": 4
}
