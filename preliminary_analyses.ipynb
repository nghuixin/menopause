{
 "cells": [
  {
   "cell_type": "code",
   "execution_count": 361,
   "metadata": {},
   "outputs": [],
   "source": [
    "import pandas as pd # Pandas is an open source library providing data structures and data analysis tools for Python\n",
    "import re #regex\n",
    "from functools import reduce \n",
    "import numpy as np\n",
    "from math import isnan\n",
    "import matplotlib.pyplot as plt\n",
    "import urllib.request\n",
    "import json\n",
    "from datetime import date\n",
    "from datetime import datetime"
   ]
  },
  {
   "cell_type": "code",
   "execution_count": 362,
   "metadata": {},
   "outputs": [
    {
     "name": "stdout",
     "output_type": "stream",
     "text": [
      "Total survey 2 attempts:  81\n",
      "Total Unique participants:  80\n",
      "Total survey 1 ane 2 attempts:  81\n",
      "Total Unique participants:  80\n",
      "Total survey 1 and 2 no fraud attempts:  20\n",
      "Total Unique participants:  20\n"
     ]
    }
   ],
   "source": [
    "today = 'jan'\n",
    "beta_file_loc =  \"C:/Users/huixin/OneDrive - UC San Diego/menoplan/pilot_phase/merged_analysis/\"\n",
    "pilot_file_loc = \"C:/Users/huixin/OneDrive - UC San Diego/menoplan/trial_phase/\"\n",
    "cleaned = pd.read_csv(pilot_file_loc + \"cleaned_data/p2/cleaned\" + today  + \"_p2.csv\")\n",
    "allD = pd.read_csv(pilot_file_loc+\"cleaned_data/allData\"+ today+ \".csv\")\n",
    "noFraud = pd.read_csv(pilot_file_loc+\"cleaned_data/noFraud/noFraud\"+ today+ \".csv\")\n",
    "\n",
    "\n",
    "print('Total survey 2 attempts: ', len(cleaned))\n",
    "print('Total Unique participants: ', cleaned['IPAddress_p2'].nunique())\n",
    "\n",
    "print('Total survey 1 ane 2 attempts: ', len(allD))\n",
    "print('Total Unique participants: ', allD['IPAddress_p2'].nunique())\n",
    "\n",
    "print('Total survey 1 and 2 no fraud attempts: ', len(noFraud))\n",
    "print('Total Unique participants: ', noFraud['IPAddress_p2'].nunique())"
   ]
  },
  {
   "cell_type": "code",
   "execution_count": 363,
   "metadata": {},
   "outputs": [
    {
     "data": {
      "image/png": "[encoded data removed]",
      "text/plain": [
       "<Figure size 432x288 with 1 Axes>"
      ]
     },
     "metadata": {
      "needs_background": "light"
     },
     "output_type": "display_data"
    }
   ],
   "source": [
    "a = allD[allD['durationMins_p2'] < 150]['durationMins_p2']\n",
    "a.plot.hist(weights = np.ones_like(a.index) / len(a.index), bins=10, rwidth=0.85)\n",
    "plt.axvline(x=30, color='r', linestyle='-')\n",
    "plt.show()"
   ]
  },
  {
   "cell_type": "code",
   "execution_count": 364,
   "metadata": {},
   "outputs": [
    {
     "data": {
      "image/png": "[encoded data removed]",
      "text/plain": [
       "<Figure size 432x288 with 1 Axes>"
      ]
     },
     "metadata": {
      "needs_background": "light"
     },
     "output_type": "display_data"
    }
   ],
   "source": [
    "allD['durationMins_p2'].plot.hist(weights = np.ones_like(allD.index) / len(allD.index), bins=40)\n",
    "plt.axvline(x=30, color='r', linestyle='-')\n",
    "plt.show()"
   ]
  },
  {
   "cell_type": "code",
   "execution_count": 365,
   "metadata": {},
   "outputs": [
    {
     "data": {
      "image/png": "[encoded data removed]",
      "text/plain": [
       "<Figure size 432x288 with 1 Axes>"
      ]
     },
     "metadata": {
      "needs_background": "light"
     },
     "output_type": "display_data"
    }
   ],
   "source": [
    "fig = plt.figure()\n",
    "#ax = fig.add_axes([1,1,1,1]) # main axes\n",
    "noFraud[noFraud['Cond_p2'] == 'Ctrl']['I3-Knowledge_Gain_p2'].hist(bins=5)\n",
    "ax.set_xticks([1,2,3,4,5])\n",
    "plt.show()"
   ]
  },
  {
   "cell_type": "code",
   "execution_count": 366,
   "metadata": {},
   "outputs": [
    {
     "data": {
      "image/png": "[encoded data removed]",
      "text/plain": [
       "<Figure size 432x288 with 1 Axes>"
      ]
     },
     "metadata": {
      "needs_background": "light"
     },
     "output_type": "display_data"
    }
   ],
   "source": [
    "noFraud[noFraud['Cond_p2'] == 'Exp']['I3-Knowledge_Gain_p2'].hist(bins=5)\n",
    "ax.set_xticks([1,2,3,4,5])\n",
    "plt.show()"
   ]
  },
  {
   "cell_type": "code",
   "execution_count": 367,
   "metadata": {},
   "outputs": [
    {
     "name": "stdout",
     "output_type": "stream",
     "text": [
      "4.071428571428571 4.253968253968255\n"
     ]
    }
   ],
   "source": [
    "ls = []\n",
    "for i in (range(1, 8)):\n",
    "    ls.append('I'+ str(i) + '-Perceived_Quality_p2')\n",
    "\n",
    "qualityC = noFraud[ls][noFraud['Cond_p2'] == 'Ctrl'].mean(axis = 1).mean()\n",
    "qualityE = noFraud[ls][noFraud['Cond_p2'] == 'Exp'].mean(axis = 1).mean()\n",
    "print(qualityC, qualityE)"
   ]
  }
 ],
 "metadata": {
  "kernelspec": {
   "display_name": "Python 3",
   "language": "python",
   "name": "python3"
  },
  "language_info": {
   "codemirror_mode": {
    "name": "ipython",
    "version": 3
   },
   "file_extension": ".py",
   "mimetype": "text/x-python",
   "name": "python",
   "nbconvert_exporter": "python",
   "pygments_lexer": "ipython3",
   "version": "3.7.6"
  }
 },
 "nbformat": 4,
 "nbformat_minor": 4
}
