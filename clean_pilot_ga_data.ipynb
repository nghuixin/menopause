{
 "cells": [
  {
   "cell_type": "markdown",
   "metadata": {},
   "source": [
    "The following data can be accessed in GA via the \"Events\" Tab. Methods for cleaning these data are almost the same.\n",
    "\n",
    "1) Clicks on tools\n",
    "2) Page Views\n",
    "3) Session Duration\n"
   ]
  },
  {
   "cell_type": "code",
   "execution_count": 13,
   "metadata": {},
   "outputs": [],
   "source": [
    "import pandas as pd # Pandas is an open source library providing high-performance, easy-to-use data structures and data analysis tools for Python\n",
    "import json # JSON encoder and decoder for Python\n",
    "import re\n",
    "from functools import reduce\n",
    "import numpy as np\n",
    "from math import isnan\n",
    "import matplotlib.pyplot as plt\n",
    "import operator\n",
    "import datetime\n",
    "import seaborn as sns\n",
    "from datetime import *\n",
    "\n",
    "name = \"Analytics Pilot View Session Duration and Page Views By ID 20220111-20220118\"\n",
    "pilot_file_loc = \"C:/Users/huixin/OneDrive - UC San Diego/menoplan/trial_phase/\"\n",
    "path = pilot_file_loc + \"ga_data/\" + name\n",
    "allD=pd.read_csv(pilot_file_loc + \"cleaned_data/allDatajan.csv\")\n",
    "ga_data = pd.read_csv(path, skiprows=5).iloc[:-10,:]"
   ]
  },
  {
   "cell_type": "code",
   "execution_count": 14,
   "metadata": {},
   "outputs": [
    {
     "data": {
      "image/png": "[encoded data removed]",
      "text/plain": [
       "<Figure size 432x288 with 1 Axes>"
      ]
     },
     "metadata": {
      "needs_background": "light"
     },
     "output_type": "display_data"
    },
    {
     "name": "stdout",
     "output_type": "stream",
     "text": [
      "Proportion spent >=20min  0.5625\n",
      "Proportion spent >=15min  0.7\n",
      "Total Unique IPs  80\n"
     ]
    },
    {
     "data": {
      "text/plain": [
       "80"
      ]
     },
     "execution_count": 14,
     "metadata": {},
     "output_type": "execute_result"
    }
   ],
   "source": [
    "ga_data = ga_data.rename(columns={'IP Address': 'IPAddress_p2' #'Avg. Time on Page': 'muTimeOnPage'\n",
    "                                 })\n",
    "ga_data.head(4)\n",
    "from datetime import *\n",
    "#ga_data = ga_data.drop(columns=[\"Event Value\", 'Avg. Value'])\n",
    "ga_data['durSession'] = pd.to_timedelta(ga_data['Session Duration']).dt.total_seconds().astype(int)/60\n",
    "eventsPerId = ga_data.groupby(['IPAddress_p2'], as_index=False).agg({'durSession':'mean'})\n",
    "a= eventsPerId['durSession']\n",
    "a.plot.hist(weights = np.ones_like(a.index) / len(a.index), bins=10)\n",
    "plt.axvline(x=20, color='r', linestyle='-')\n",
    "plt.show()\n",
    "\n",
    "print(\"Proportion spent >=20min \", len(a[a>=20])/len(a))\n",
    "print(\"Proportion spent >=15min \", len(a[a>=15])/len(a))\n",
    "print(\"Total Unique IPs \",len(a))\n",
    "ga_data['IPAddress_p2'].nunique()"
   ]
  },
  {
   "cell_type": "code",
   "execution_count": 15,
   "metadata": {},
   "outputs": [
    {
     "data": {
      "text/plain": [
       "<matplotlib.axes._subplots.AxesSubplot at 0x27cb5076448>"
      ]
     },
     "execution_count": 15,
     "metadata": {},
     "output_type": "execute_result"
    },
    {
     "data": {
      "image/png": "[encoded data removed]",
      "text/plain": [
       "<Figure size 432x288 with 1 Axes>"
      ]
     },
     "metadata": {
      "needs_background": "light"
     },
     "output_type": "display_data"
    }
   ],
   "source": [
    "allD['IPAddress_p2']\n",
    "df = pd.merge(allD, ga_data, on=['IPAddress_p2'])\n",
    "df['durationMins_p2']\n",
    "import pingouin as pg\n",
    "\n",
    "a = df[[\"durSession\", \"durationMins_p2\", \"StartDate_p2\", \"EndDate_p2\"]]\n",
    "a.to_csv(pilot_file_loc +'/cleaned_data/ga_by_ip/18jan_ga_duration.csv')\n",
    "\n",
    "pg.corr((a['durSession']/a['durationMins_p2']), a['durationMins_p2'])\n",
    "a['durationMins_p2'].hist()\n",
    "#plt.show()\n",
    "(a['durSession']/a['durationMins_p2']).hist()"
   ]
  },
  {
   "cell_type": "code",
   "execution_count": 16,
   "metadata": {},
   "outputs": [],
   "source": [
    "#name = \"Analytics Pilot View Session Duration and Page Views By ID 20220111-20220118\"\n",
    "name = \"Analytics Pilot View Events By ID 20220111-20220118.csv\"\n",
    "pilot_file_loc = \"C:/Users/huixin/OneDrive - UC San Diego/menoplan/trial_phase/\"\n",
    "path = pilot_file_loc + \"ga_data/\" + name\n",
    "#pd.read_csv(path, skiprows=5)"
   ]
  },
  {
   "cell_type": "code",
   "execution_count": 17,
   "metadata": {},
   "outputs": [
    {
     "data": {
      "text/plain": [
       "Event Label\n",
       "LOW DEPRESSION SCORE                  1.0\n",
       "HIGH DEPRESSION SCORE                 2.0\n",
       "early-menopause-transition-result     2.0\n",
       "post-menopausal-result                3.0\n",
       "late-menopause-transition-result      4.0\n",
       "SUB-THRESHOLD INSOMNIA                5.0\n",
       "sleepdiaryv6-sleep-foundation.pdf     5.0\n",
       "sex-pain-sex.png                      5.0\n",
       "ok-for-breast-cancer                  5.0\n",
       "reproductive-years-result             6.0\n",
       "uncertain-stage-result                6.0\n",
       "weekly-hot-flash-diary.pdf            6.0\n",
       "sex-pain-vagina.png                   7.0\n",
       "other-dryness.png                    10.0\n",
       "sex-period.png                       11.0\n",
       "dry-eyes2.png                        11.0\n",
       "professional-help                    12.0\n",
       "prescription-medicine                16.0\n",
       "supplement                           17.0\n",
       "sex-libido.png                       17.0\n",
       "mind-body                            17.0\n",
       "try-on-your-own                      18.0\n",
       "other-bladder.png                    19.0\n",
       "other-aches-pains.png                20.0\n",
       "other-brain-fog.png                  20.0\n",
       "other-weight-gain.png                22.0\n",
       "common-depression.png                24.0\n",
       "common-insomnia.png                  25.0\n",
       "common-hot-flashes.png               27.0\n",
       "treatmentsButton                     27.0\n",
       "dtype: float64"
      ]
     },
     "execution_count": 17,
     "metadata": {},
     "output_type": "execute_result"
    }
   ],
   "source": [
    "events = pd.read_csv(path, skiprows=5)\n",
    "events = events.rename(columns={'IP Address': 'IPAddress_p2' #'Avg. Time on Page': 'muTimeOnPage'\n",
    "                                 })\n",
    "#display(events)\n",
    "events['IPAddress_p2'].nunique()#75 unique IPs\n",
    "events.sort_values(by=['IPAddress_p2'], ascending = False)\n",
    "# #ga_data = ga_data.drop(columns=[\"Event Value\", 'Avg. Value'])\n",
    "# ga_data['durSession'] = pd.to_timedelta(ga_data['Session Duration']).dt.total_seconds().astype(int)/60\n",
    "# eventsPerId = ga_data.groupby(['IPAddress_p2'], as_index=False).agg({'durSession':'mean'})\n",
    "# a= eventsPerId['durSession']\n",
    "df = pd.merge(allD, events, on=['IPAddress_p2'])[['Unique Events', 'Date','IPAddress_p2', 'Event Label', 'StartDate_p2', 'EndDate_p2']]\n",
    "#df.to_csv(pilot_file_loc + '18jan_events_merged.csv')\n",
    "#df.sort_values(by=['Unique Events'])\n",
    "#ga_data = ga_data.drop(columns=[\"Event Value\", 'Avg. Value'])\n",
    "\n",
    "decisionFilPerId = df.groupby(['IPAddress_p2', 'Event Label'], as_index=False).agg({'Unique Events':'mean'})\n",
    "decisionFilPerId = decisionFilPerId.groupby(['IPAddress_p2', 'Event Label'])['Unique Events'].agg(\"mean\").unstack(level=1)\n",
    "ls = list(decisionFilPerId.columns)\n",
    "ls\n",
    "\n",
    "decisionFilPerId = decisionFilPerId.fillna(0)\n",
    "decisionFilPerId.sum().sort_values()\n",
    "#decisionFilPerId"
   ]
  },
  {
   "cell_type": "code",
   "execution_count": 18,
   "metadata": {
    "scrolled": true
   },
   "outputs": [],
   "source": [
    "import datetime\n",
    "\n",
    "\n",
    "#name = \"Analytics Pilot View Session Duration and Page Views By ID 20220111-20220118\"\n",
    "name = \"Analytics Pilot View Page Views By ID 20220112-20220120.csv\"\n",
    "pilot_file_loc = \"C:/Users/huixin/OneDrive - UC San Diego/menoplan/trial_phase/\"\n",
    "path = pilot_file_loc + \"ga_data/\" + name\n",
    "pageviews = pd.read_csv(path, skiprows=5)\n",
    "pageviews = pageviews.rename(columns={'IP Address': 'IPAddress_p2' ,'Avg. Time on Page': 'muTimeOnPage'\n",
    "                                 })\n",
    "\n",
    "pageviews['muTimeOnPage'] = pageviews['muTimeOnPage'].apply(pd.to_datetime, format='%H:%M:%S').apply(datetime.datetime.time)\n",
    "pageviews['muTimeOnPage'] = pageviews['muTimeOnPage'].apply(lambda x: x.second/60 + x.minute + x.hour*60)\n",
    "#display(pageviews)\n",
    "pageviews['IPAddress_p2'].nunique()#75 unique IPs\n",
    "\n",
    "totalDurPerPageById = pageviews.groupby(['IPAddress_p2', 'Page'], as_index=False).agg({'muTimeOnPage':'mean'})\n",
    "totalDurPerPageById.columns = totalDurPerPageById.columns.str.strip('/?=')\n",
    "totalDurPerPageById= totalDurPerPageById.rename(columns={\"\": \"homepage\"})\n",
    "totalDurPerPageById = totalDurPerPageById.groupby(['IPAddress_p2', 'Page'])['muTimeOnPage'].agg(\"mean\").unstack(level=1)\n",
    "ls = list(totalDurPerPageById.columns)\n",
    "r = re.compile('\\d*([.,\\/]?\\d+)')# use regex to find dates\n",
    "newlist = list(filter(r.match, ls)) # create list of dates \n",
    "totalDurPerPageById = totalDurPerPageById.drop(columns=newlist) #we do not want the dates\n",
    "totalDurPerPageById=totalDurPerPageById.fillna(0)"
   ]
  },
  {
   "cell_type": "code",
   "execution_count": 19,
   "metadata": {},
   "outputs": [],
   "source": [
    "insomnia_cols = [col for col in totalDurPerPageById.columns if 'test/insomnia-severity-index' in col and len(col) >28]\n",
    "anxiety_cols = [col for col in totalDurPerPageById.columns if 'test/anxiety-assessment' in col and len(col) >23]\n",
    "depression_cols = [col for col in totalDurPerPageById.columns if 'test/depression-assessment' in col and len(col) >26]\n",
    "totalDurPerPageById['insomnia-severity-index-results'] = totalDurPerPageById[insomnia_cols].sum(axis=1)\n",
    "totalDurPerPageById['anxiety-assessment-results'] = totalDurPerPageById[anxiety_cols].sum(axis=1)\n",
    "totalDurPerPageById['depression-assessment-results'] = totalDurPerPageById[depression_cols].sum(axis=1)"
   ]
  },
  {
   "cell_type": "code",
   "execution_count": 20,
   "metadata": {},
   "outputs": [],
   "source": [
    "totalDurPerPageById['insomnia-severity-index-results'] = totalDurPerPageById[insomnia_cols].sum(axis=1)\n",
    "totalDurPerPageById['anxiety-assessment-results'] = totalDurPerPageById[anxiety_cols].sum(axis=1)\n",
    "totalDurPerPageById['depression-assessment-results'] = totalDurPerPageById[depression_cols].sum(axis=1)\n",
    "totalDurPerPageById = totalDurPerPageById.drop(columns=insomnia_cols)\n",
    "totalDurPerPageById = totalDurPerPageById.drop(columns=anxiety_cols)\n",
    "totalDurPerPageById = totalDurPerPageById.drop(columns=depression_cols)"
   ]
  },
  {
   "cell_type": "code",
   "execution_count": 21,
   "metadata": {},
   "outputs": [
    {
     "data": {
      "text/plain": [
       "Page\n",
       "/contact/                                               0.050000\n",
       "/vaginal-physical-therapy-pelvic-physical-therapy/      0.050000\n",
       "/cognitive-behavioral-therapy                           0.133333\n",
       "/paced-breathing/                                       0.150000\n",
       "/?s=Help+for+hot+flashes                                0.166667\n",
       "                                                         ...    \n",
       "/questions-and-answers/                                75.200000\n",
       "/hot-flashes/                                          83.866667\n",
       "/create-my-menoplan/                                  159.350000\n",
       "/                                                     171.916667\n",
       "/womens-stories/                                      198.400000\n",
       "Length: 88, dtype: float64"
      ]
     },
     "execution_count": 21,
     "metadata": {},
     "output_type": "execute_result"
    }
   ],
   "source": [
    "totalDurPerPageById = totalDurPerPageById.fillna(0)\n",
    "totalDurPerPageById\n",
    "df = pd.merge(totalDurPerPageById, allD, on=['IPAddress_p2'])\n",
    "b = pd.concat([df[['StartDate_p2', 'EndDate_p2']],df.iloc[:, :89]] ,join = 'outer', axis = 1)\n",
    "b.to_csv(pilot_file_loc +'/cleaned_data/ga_by_ip/18jan_page_dur.csv')\n",
    "totalDurPerPageById.sum().sort_values()\n"
   ]
  },
  {
   "cell_type": "code",
   "execution_count": 25,
   "metadata": {},
   "outputs": [
    {
     "ename": "SyntaxError",
     "evalue": "invalid syntax (<ipython-input-25-1dd6127d975b>, line 1)",
     "output_type": "error",
     "traceback": [
      "\u001b[1;36m  File \u001b[1;32m\"<ipython-input-25-1dd6127d975b>\"\u001b[1;36m, line \u001b[1;32m1\u001b[0m\n\u001b[1;33m    pd.DataFrame((totalDurPerPageById).sum()/len(totalDurPerPageById)).sort_values(by=[0]).to)csv(\"meanDurEachPage.csv\")\u001b[0m\n\u001b[1;37m                                                                                             ^\u001b[0m\n\u001b[1;31mSyntaxError\u001b[0m\u001b[1;31m:\u001b[0m invalid syntax\n"
     ]
    }
   ],
   "source": [
    "pd.DataFrame((totalDurPerPageById).sum()/len(totalDurPerPageById)).sort_values(by=[0]).to_csv(\"meanDurEachPage.csv\")"
   ]
  },
  {
   "cell_type": "code",
   "execution_count": null,
   "metadata": {},
   "outputs": [],
   "source": []
  }
 ],
 "metadata": {
  "kernelspec": {
   "display_name": "Python 3",
   "language": "python",
   "name": "python3"
  },
  "language_info": {
   "codemirror_mode": {
    "name": "ipython",
    "version": 3
   },
   "file_extension": ".py",
   "mimetype": "text/x-python",
   "name": "python",
   "nbconvert_exporter": "python",
   "pygments_lexer": "ipython3",
   "version": "3.7.6"
  }
 },
 "nbformat": 4,
 "nbformat_minor": 4
}
