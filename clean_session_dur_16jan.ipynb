{
 "cells": [
  {
   "cell_type": "markdown",
   "metadata": {},
   "source": [
    "The following data can be accessed in GA via the \"Events\" Tab. Methods for cleaning these data are almost the same.\n",
    "\n",
    "\n",
    "1) Decision Tool Clicks (e.g., brain fog)\n",
    "\n",
    "2) Decision Filter Clicks (e.g., try-it-yourself)\n",
    "\n",
    "3) Am I in Menopause results (eg., Perimenopause)\n"
   ]
  },
  {
   "cell_type": "code",
   "execution_count": 73,
   "metadata": {},
   "outputs": [],
   "source": [
    "import pandas as pd # Pandas is an open source library providing high-performance, easy-to-use data structures and data analysis tools for Python\n",
    "import json # JSON encoder and decoder for Python\n",
    "import re\n",
    "from functools import reduce\n",
    "import numpy as np\n",
    "from math import isnan\n",
    "import matplotlib.pyplot as plt\n",
    "import operator\n",
    "import datetime\n",
    "import seaborn as sns\n",
    "from datetime import *\n",
    "\n",
    "name = \"Analytics Pilot View Session Duration and Page Views By ID 20220112-20220116.csv\"\n",
    "pilot_file_loc = \"C:/Users/huixin/OneDrive - UC San Diego/menoplan/trial_phase/\"\n",
    "path = pilot_file_loc + \"ga_data/\" + name"
   ]
  },
  {
   "cell_type": "code",
   "execution_count": 31,
   "metadata": {},
   "outputs": [
    {
     "data": {
      "text/html": [
       "<div>\n",
       "<style scoped>\n",
       "    .dataframe tbody tr th:only-of-type {\n",
       "        vertical-align: middle;\n",
       "    }\n",
       "\n",
       "    .dataframe tbody tr th {\n",
       "        vertical-align: top;\n",
       "    }\n",
       "\n",
       "    .dataframe thead th {\n",
       "        text-align: right;\n",
       "    }\n",
       "</style>\n",
       "<table border=\"1\" class=\"dataframe\">\n",
       "  <thead>\n",
       "    <tr style=\"text-align: right;\">\n",
       "      <th></th>\n",
       "      <th>IP Address</th>\n",
       "      <th>Session Duration</th>\n",
       "      <th>Sessions</th>\n",
       "    </tr>\n",
       "  </thead>\n",
       "  <tbody>\n",
       "    <tr>\n",
       "      <th>0</th>\n",
       "      <td>24.101.80.217</td>\n",
       "      <td>00:51:09</td>\n",
       "      <td>2.0</td>\n",
       "    </tr>\n",
       "    <tr>\n",
       "      <th>1</th>\n",
       "      <td>174.215.189.152</td>\n",
       "      <td>00:45:03</td>\n",
       "      <td>1.0</td>\n",
       "    </tr>\n",
       "    <tr>\n",
       "      <th>2</th>\n",
       "      <td>172.58.141.181</td>\n",
       "      <td>00:40:16</td>\n",
       "      <td>1.0</td>\n",
       "    </tr>\n",
       "    <tr>\n",
       "      <th>3</th>\n",
       "      <td>73.176.147.18</td>\n",
       "      <td>00:33:44</td>\n",
       "      <td>1.0</td>\n",
       "    </tr>\n",
       "  </tbody>\n",
       "</table>\n",
       "</div>"
      ],
      "text/plain": [
       "        IP Address Session Duration  Sessions\n",
       "0    24.101.80.217         00:51:09       2.0\n",
       "1  174.215.189.152         00:45:03       1.0\n",
       "2   172.58.141.181         00:40:16       1.0\n",
       "3    73.176.147.18         00:33:44       1.0"
      ]
     },
     "execution_count": 31,
     "metadata": {},
     "output_type": "execute_result"
    }
   ],
   "source": [
    "ga_data = pd.read_csv(path, skiprows=5).iloc[:-8,:]\n",
    "ga_data.head(4)"
   ]
  },
  {
   "cell_type": "code",
   "execution_count": 95,
   "metadata": {},
   "outputs": [
    {
     "data": {
      "image/png": "[encoded data removed]",
      "text/plain": [
       "<Figure size 432x288 with 1 Axes>"
      ]
     },
     "metadata": {
      "needs_background": "light"
     },
     "output_type": "display_data"
    },
    {
     "name": "stdout",
     "output_type": "stream",
     "text": [
      "0.5\n",
      "0.7142857142857143\n"
     ]
    }
   ],
   "source": [
    "ga_data = ga_data.rename(columns={'IP Address': 'IPAddress' #'Avg. Time on Page': 'muTimeOnPage'\n",
    "                                 })\n",
    "ga_data.head(4)\n",
    "from datetime import *\n",
    "#ga_data = ga_data.drop(columns=[\"Event Value\", 'Avg. Value'])\n",
    "ga_data['durSession'] = pd.to_datetime(ga_data['Session Duration']).dt.minute\n",
    "eventsPerId = ga_data.groupby(['IPAddress'], as_index=False).agg({'durSession':'mean'})\n",
    "a= eventsPerId['durSession']\n",
    "a.plot.hist(weights = np.ones_like(a.index) / len(a.index), bins=10)\n",
    "plt.axvline(x=20, color='r', linestyle='-')\n",
    "plt.show()\n",
    "\n",
    "print(len(a[a>=20])/len(a))\n",
    "print(len(a[a>=15])/len(a))"
   ]
  },
  {
   "cell_type": "code",
   "execution_count": 66,
   "metadata": {},
   "outputs": [
    {
     "ename": "KeyError",
     "evalue": "'Event Label'",
     "output_type": "error",
     "traceback": [
      "\u001b[1;31m---------------------------------------------------------------------------\u001b[0m",
      "\u001b[1;31mKeyError\u001b[0m                                  Traceback (most recent call last)",
      "\u001b[1;32m<ipython-input-66-3fc494372340>\u001b[0m in \u001b[0;36m<module>\u001b[1;34m\u001b[0m\n\u001b[0;32m      1\u001b[0m \u001b[1;31m#viewsPerPageById.columns = viewsPerPageById.columns.str.strip('/?=')\u001b[0m\u001b[1;33m\u001b[0m\u001b[1;33m\u001b[0m\u001b[1;33m\u001b[0m\u001b[0m\n\u001b[0;32m      2\u001b[0m \u001b[1;31m#viewsPerPageById= viewsPerPageById.rename(columns={\"\": \"homepage\"})\u001b[0m\u001b[1;33m\u001b[0m\u001b[1;33m\u001b[0m\u001b[1;33m\u001b[0m\u001b[0m\n\u001b[1;32m----> 3\u001b[1;33m \u001b[0meventsPerId\u001b[0m \u001b[1;33m=\u001b[0m \u001b[0meventsPerId\u001b[0m\u001b[1;33m.\u001b[0m\u001b[0mgroupby\u001b[0m\u001b[1;33m(\u001b[0m\u001b[1;33m[\u001b[0m\u001b[1;34m'IPAddress'\u001b[0m\u001b[1;33m,\u001b[0m \u001b[1;34m'Event Label'\u001b[0m\u001b[1;33m]\u001b[0m\u001b[1;33m)\u001b[0m\u001b[1;33m[\u001b[0m\u001b[1;34m'Total Events'\u001b[0m\u001b[1;33m]\u001b[0m\u001b[1;33m.\u001b[0m\u001b[0magg\u001b[0m\u001b[1;33m(\u001b[0m\u001b[1;34m\"mean\"\u001b[0m\u001b[1;33m)\u001b[0m\u001b[1;33m.\u001b[0m\u001b[0munstack\u001b[0m\u001b[1;33m(\u001b[0m\u001b[0mlevel\u001b[0m\u001b[1;33m=\u001b[0m\u001b[1;36m1\u001b[0m\u001b[1;33m)\u001b[0m\u001b[1;33m\u001b[0m\u001b[1;33m\u001b[0m\u001b[0m\n\u001b[0m\u001b[0;32m      4\u001b[0m \u001b[0mls\u001b[0m \u001b[1;33m=\u001b[0m \u001b[0mlist\u001b[0m\u001b[1;33m(\u001b[0m\u001b[0meventsPerId\u001b[0m\u001b[1;33m.\u001b[0m\u001b[0mcolumns\u001b[0m\u001b[1;33m)\u001b[0m\u001b[1;33m\u001b[0m\u001b[1;33m\u001b[0m\u001b[0m\n\u001b[0;32m      5\u001b[0m \u001b[1;31m#ls\u001b[0m\u001b[1;33m\u001b[0m\u001b[1;33m\u001b[0m\u001b[1;33m\u001b[0m\u001b[0m\n",
      "\u001b[1;32m~\\anaconda3\\lib\\site-packages\\pandas\\core\\frame.py\u001b[0m in \u001b[0;36mgroupby\u001b[1;34m(self, by, axis, level, as_index, sort, group_keys, squeeze, observed, dropna)\u001b[0m\n\u001b[0;32m   7634\u001b[0m             \u001b[0msqueeze\u001b[0m\u001b[1;33m=\u001b[0m\u001b[0msqueeze\u001b[0m\u001b[1;33m,\u001b[0m  \u001b[1;31m# type: ignore[arg-type]\u001b[0m\u001b[1;33m\u001b[0m\u001b[1;33m\u001b[0m\u001b[0m\n\u001b[0;32m   7635\u001b[0m             \u001b[0mobserved\u001b[0m\u001b[1;33m=\u001b[0m\u001b[0mobserved\u001b[0m\u001b[1;33m,\u001b[0m\u001b[1;33m\u001b[0m\u001b[1;33m\u001b[0m\u001b[0m\n\u001b[1;32m-> 7636\u001b[1;33m             \u001b[0mdropna\u001b[0m\u001b[1;33m=\u001b[0m\u001b[0mdropna\u001b[0m\u001b[1;33m,\u001b[0m\u001b[1;33m\u001b[0m\u001b[1;33m\u001b[0m\u001b[0m\n\u001b[0m\u001b[0;32m   7637\u001b[0m         )\n\u001b[0;32m   7638\u001b[0m \u001b[1;33m\u001b[0m\u001b[0m\n",
      "\u001b[1;32m~\\anaconda3\\lib\\site-packages\\pandas\\core\\groupby\\groupby.py\u001b[0m in \u001b[0;36m__init__\u001b[1;34m(self, obj, keys, axis, level, grouper, exclusions, selection, as_index, sort, group_keys, squeeze, observed, mutated, dropna)\u001b[0m\n\u001b[0;32m    894\u001b[0m                 \u001b[0mobserved\u001b[0m\u001b[1;33m=\u001b[0m\u001b[0mobserved\u001b[0m\u001b[1;33m,\u001b[0m\u001b[1;33m\u001b[0m\u001b[1;33m\u001b[0m\u001b[0m\n\u001b[0;32m    895\u001b[0m                 \u001b[0mmutated\u001b[0m\u001b[1;33m=\u001b[0m\u001b[0mself\u001b[0m\u001b[1;33m.\u001b[0m\u001b[0mmutated\u001b[0m\u001b[1;33m,\u001b[0m\u001b[1;33m\u001b[0m\u001b[1;33m\u001b[0m\u001b[0m\n\u001b[1;32m--> 896\u001b[1;33m                 \u001b[0mdropna\u001b[0m\u001b[1;33m=\u001b[0m\u001b[0mself\u001b[0m\u001b[1;33m.\u001b[0m\u001b[0mdropna\u001b[0m\u001b[1;33m,\u001b[0m\u001b[1;33m\u001b[0m\u001b[1;33m\u001b[0m\u001b[0m\n\u001b[0m\u001b[0;32m    897\u001b[0m             )\n\u001b[0;32m    898\u001b[0m \u001b[1;33m\u001b[0m\u001b[0m\n",
      "\u001b[1;32m~\\anaconda3\\lib\\site-packages\\pandas\\core\\groupby\\grouper.py\u001b[0m in \u001b[0;36mget_grouper\u001b[1;34m(obj, key, axis, level, sort, observed, mutated, validate, dropna)\u001b[0m\n\u001b[0;32m    858\u001b[0m                 \u001b[0min_axis\u001b[0m\u001b[1;33m,\u001b[0m \u001b[0mlevel\u001b[0m\u001b[1;33m,\u001b[0m \u001b[0mgpr\u001b[0m \u001b[1;33m=\u001b[0m \u001b[1;32mFalse\u001b[0m\u001b[1;33m,\u001b[0m \u001b[0mgpr\u001b[0m\u001b[1;33m,\u001b[0m \u001b[1;32mNone\u001b[0m\u001b[1;33m\u001b[0m\u001b[1;33m\u001b[0m\u001b[0m\n\u001b[0;32m    859\u001b[0m             \u001b[1;32melse\u001b[0m\u001b[1;33m:\u001b[0m\u001b[1;33m\u001b[0m\u001b[1;33m\u001b[0m\u001b[0m\n\u001b[1;32m--> 860\u001b[1;33m                 \u001b[1;32mraise\u001b[0m \u001b[0mKeyError\u001b[0m\u001b[1;33m(\u001b[0m\u001b[0mgpr\u001b[0m\u001b[1;33m)\u001b[0m\u001b[1;33m\u001b[0m\u001b[1;33m\u001b[0m\u001b[0m\n\u001b[0m\u001b[0;32m    861\u001b[0m         \u001b[1;32melif\u001b[0m \u001b[0misinstance\u001b[0m\u001b[1;33m(\u001b[0m\u001b[0mgpr\u001b[0m\u001b[1;33m,\u001b[0m \u001b[0mGrouper\u001b[0m\u001b[1;33m)\u001b[0m \u001b[1;32mand\u001b[0m \u001b[0mgpr\u001b[0m\u001b[1;33m.\u001b[0m\u001b[0mkey\u001b[0m \u001b[1;32mis\u001b[0m \u001b[1;32mnot\u001b[0m \u001b[1;32mNone\u001b[0m\u001b[1;33m:\u001b[0m\u001b[1;33m\u001b[0m\u001b[1;33m\u001b[0m\u001b[0m\n\u001b[0;32m    862\u001b[0m             \u001b[1;31m# Add key to exclusions\u001b[0m\u001b[1;33m\u001b[0m\u001b[1;33m\u001b[0m\u001b[1;33m\u001b[0m\u001b[0m\n",
      "\u001b[1;31mKeyError\u001b[0m: 'Event Label'"
     ]
    }
   ],
   "source": [
    "#viewsPerPageById.columns = viewsPerPageById.columns.str.strip('/?=')\n",
    "#viewsPerPageById= viewsPerPageById.rename(columns={\"\": \"homepage\"})\n",
    "eventsPerId = eventsPerId.groupby(['IPAddress', 'Event Label'])['Total Events'].agg(\"mean\").unstack(level=1)\n",
    "ls = list(eventsPerId.columns)\n",
    "#ls\n",
    "\n",
    "r = re.compile('\\d*([.,\\/]?\\d+)')# use regex to find dates\n",
    "newlist = list(filter(r.match, ls))\n",
    "newlist.append(\"Day Index\") # create list of dates \n",
    "eventsPerId = eventsPerId.drop(columns=newlist) #we do not want the dates\n",
    "\n",
    "eventsPerId = eventsPerId.fillna(0)\n",
    "IPAdCol = list(eventsPerId.index)       \n",
    "IPCol = [x for x in IPAdCol if '.' in x]\n",
    "eventsPerId = eventsPerId.loc[IPCol]"
   ]
  },
  {
   "cell_type": "code",
   "execution_count": null,
   "metadata": {},
   "outputs": [],
   "source": [
    "eventsPerId.to_csv(file_loc + \"decision_tool_clicks_nov02.csv\")"
   ]
  },
  {
   "cell_type": "code",
   "execution_count": null,
   "metadata": {},
   "outputs": [],
   "source": [
    "ga_data = pd.read_csv(\"C:/Users/huixin/Dropbox/research/menoplan/beta_phase/ga_data/02nov_decision_filter.csv\")\n",
    "ga_data = ga_data.rename(columns={'IP Address': 'IPAddress', 'Avg. Time on Page': 'muTimeOnPage'})\n",
    "ga_data.head(4)"
   ]
  },
  {
   "cell_type": "code",
   "execution_count": null,
   "metadata": {},
   "outputs": [],
   "source": [
    "#ga_data = ga_data.drop(columns=[\"Event Value\", 'Avg. Value'])\n",
    "\n",
    "decisionFilPerId = ga_data.groupby(['IPAddress', 'Event Label'], as_index=False).agg({'Total Events':'mean'})\n",
    "#viewsPerPageById.columns = viewsPerPageById.columns.str.strip('/?=')\n",
    "#viewsPerPageById= viewsPerPageById.rename(columns={\"\": \"homepage\"})\n",
    "decisionFilPerId = decisionFilPerId.groupby(['IPAddress', 'Event Label'])['Total Events'].agg(\"mean\").unstack(level=1)\n",
    "ls = list(decisionFilPerId.columns)\n",
    "#ls\n",
    "\n",
    "r = re.compile('\\d*([.,\\/]?\\d+)')# use regex to find dates\n",
    "newlist = list(filter(r.match, ls))\n",
    "newlist.append(\"Day Index\") # create list of dates \n",
    "decisionFilPerId = decisionFilPerId.drop(columns=newlist) #we do not want the dates\n",
    "\n",
    "decisionFilPerId = decisionFilPerId.fillna(0)\n",
    "IPAdCol = list(decisionFilPerId.index)       \n",
    "IPCol = [x for x in IPAdCol if '.' in x]\n",
    "#decisionFilPerId = decisionFilPerId.groupby(['IPAddress', 'Event Label'])['Total Events'].agg(\"mean\").unstack(level=1)\n",
    "decisionFilPerId = decisionFilPerId.loc[IPCol]"
   ]
  },
  {
   "cell_type": "code",
   "execution_count": null,
   "metadata": {},
   "outputs": [],
   "source": [
    "decisionFilPerId.to_csv(file_loc + \"decision_filter_clicks_nov02.csv\")"
   ]
  },
  {
   "cell_type": "code",
   "execution_count": null,
   "metadata": {},
   "outputs": [],
   "source": [
    "ga_data = pd.read_csv(\"C:/Users/huixin/Dropbox/research/menoplan/beta_phase/ga_data/02nov_am_i_in_menopause_results.csv\")\n",
    "ga_data = ga_data.rename(columns={'IP Address': 'IPAddress', 'Avg. Time on Page': 'muTimeOnPage'})\n",
    "ga_data.head(4)"
   ]
  },
  {
   "cell_type": "code",
   "execution_count": null,
   "metadata": {},
   "outputs": [],
   "source": [
    "#group data by the same IP and Event Label, and aggregate if there are rows with same IP and Event Label by calculating the mean of those rows\n",
    "amIinMenopause = ga_data.groupby(['IPAddress', 'Event Label'], as_index=False).agg({'Total Events':'mean'})"
   ]
  },
  {
   "cell_type": "code",
   "execution_count": null,
   "metadata": {},
   "outputs": [],
   "source": [
    "# Pivot a level of the (necessarily hierarchical) index labels\n",
    "amIinMenopause = amIinMenopause.groupby(['IPAddress', 'Event Label'])['Total Events'].agg(\"mean\").unstack(level=1)"
   ]
  },
  {
   "cell_type": "code",
   "execution_count": null,
   "metadata": {},
   "outputs": [],
   "source": [
    "ls = list(amIinMenopause.columns)\n",
    "r = re.compile('\\d*([.,\\/]?\\d+)')# use regex to find dates\n",
    "newlist = list(filter(r.match, ls))\n",
    "newlist.append(\"Day Index\") # create list of dates \n",
    "amIinMenopause = amIinMenopause.drop(columns=newlist) #we do not want the dates\n",
    "\n",
    "amIinMenopause = amIinMenopause.fillna(0)\n",
    "IPAdCol = list(amIinMenopause.index)       \n",
    "IPCol = [x for x in IPAdCol if '.' in x]\n",
    "amIinMenopause = amIinMenopause.loc[IPCol]"
   ]
  },
  {
   "cell_type": "code",
   "execution_count": null,
   "metadata": {},
   "outputs": [],
   "source": [
    "amIinMenopause.to_csv(file_loc + \"am_i_in_menopause_02nov.csv\")"
   ]
  },
  {
   "cell_type": "code",
   "execution_count": null,
   "metadata": {},
   "outputs": [],
   "source": [
    "allEventsPerId = pd.concat([decisionFilPerId,  eventsPerId, amIinMenopause])\n",
    "allEventsPerId.to_csv(file_loc + \"allEventsPerId_02nov.csv\")"
   ]
  },
  {
   "cell_type": "code",
   "execution_count": null,
   "metadata": {},
   "outputs": [],
   "source": []
  },
  {
   "cell_type": "code",
   "execution_count": null,
   "metadata": {},
   "outputs": [],
   "source": []
  }
 ],
 "metadata": {
  "kernelspec": {
   "display_name": "Python 3",
   "language": "python",
   "name": "python3"
  },
  "language_info": {
   "codemirror_mode": {
    "name": "ipython",
    "version": 3
   },
   "file_extension": ".py",
   "mimetype": "text/x-python",
   "name": "python",
   "nbconvert_exporter": "python",
   "pygments_lexer": "ipython3",
   "version": "3.7.6"
  }
 },
 "nbformat": 4,
 "nbformat_minor": 4
}
