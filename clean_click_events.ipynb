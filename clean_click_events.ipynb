{
 "cells": [
  {
   "cell_type": "markdown",
   "metadata": {},
   "source": [
    "The following data can be accessed in GA via the \"Events\" Tab. Methods for cleaning these data are almost the same.\n",
    "\n",
    "\n",
    "1) Decision Tool Clicks (e.g., brain fog)\n",
    "\n",
    "2) Decision Filter Clicks (e.g., try-it-yourself)\n",
    "\n",
    "3) Am I in Menopause results (eg., Perimenopause)\n"
   ]
  },
  {
   "cell_type": "code",
   "execution_count": 2,
   "metadata": {},
   "outputs": [],
   "source": [
    "import pandas as pd # Pandas is an open source library providing high-performance, easy-to-use data structures and data analysis tools for Python\n",
    "import json # JSON encoder and decoder for Python\n",
    "import re\n",
    "from functools import reduce\n",
    "import numpy as np\n",
    "from math import isnan\n",
    "import matplotlib.pyplot as plt\n",
    "import operator\n",
    "import datetime\n",
    "import seaborn as sns\n",
    "file_loc = \"C:/Users/huixin/Dropbox/research/menoplan/beta_phase/merged_analysis/\""
   ]
  },
  {
   "cell_type": "code",
   "execution_count": 3,
   "metadata": {},
   "outputs": [],
   "source": [
    "qualtrics_data = pd.read_csv(\"C:/Users/huixin/Dropbox/research/menoplan/beta_phase/qualtrics_data/qualtrics_02nov.csv\")"
   ]
  },
  {
   "cell_type": "code",
   "execution_count": 4,
   "metadata": {},
   "outputs": [
    {
     "data": {
      "text/plain": [
       "226"
      ]
     },
     "execution_count": 4,
     "metadata": {},
     "output_type": "execute_result"
    }
   ],
   "source": [
    "len(list(qualtrics_data.columns)) #col length is 226\n",
    "#list(qualtrics_data.columns)"
   ]
  },
  {
   "cell_type": "code",
   "execution_count": 5,
   "metadata": {},
   "outputs": [],
   "source": [
    "ga_data = pd.read_csv(\"C:/Users/huixin/Dropbox/research/menoplan/beta_phase/ga_data/02nov_decision_tool.csv\")\n",
    "ga_data = ga_data.rename(columns={'IP Address': 'IPAddress', 'Avg. Time on Page': 'muTimeOnPage'})\n",
    "ga_data.head(4)\n",
    "\n",
    "#ga_data = ga_data.drop(columns=[\"Event Value\", 'Avg. Value'])\n",
    "\n",
    "eventsPerId = ga_data.groupby(['IPAddress', 'Event Label'], as_index=False).agg({'Total Events':'mean'})\n",
    "#viewsPerPageById.columns = viewsPerPageById.columns.str.strip('/?=')\n",
    "#viewsPerPageById= viewsPerPageById.rename(columns={\"\": \"homepage\"})\n",
    "eventsPerId = eventsPerId.groupby(['IPAddress', 'Event Label'])['Total Events'].agg(\"mean\").unstack(level=1)\n",
    "ls = list(eventsPerId.columns)\n",
    "#ls\n",
    "\n",
    "r = re.compile('\\d*([.,\\/]?\\d+)')# use regex to find dates\n",
    "newlist = list(filter(r.match, ls))\n",
    "newlist.append(\"Day Index\") # create list of dates \n",
    "eventsPerId = eventsPerId.drop(columns=newlist) #we do not want the dates\n",
    "\n",
    "eventsPerId = eventsPerId.fillna(0)\n",
    "IPAdCol = list(eventsPerId.index)       \n",
    "IPCol = [x for x in IPAdCol if '.' in x]\n",
    "eventsPerId = eventsPerId.loc[IPCol]"
   ]
  },
  {
   "cell_type": "code",
   "execution_count": 6,
   "metadata": {},
   "outputs": [],
   "source": [
    "eventsPerId.to_csv(file_loc + \"decision_tool_clicks_nov02.csv\")"
   ]
  },
  {
   "cell_type": "code",
   "execution_count": 7,
   "metadata": {},
   "outputs": [
    {
     "data": {
      "text/html": [
       "<div>\n",
       "<style scoped>\n",
       "    .dataframe tbody tr th:only-of-type {\n",
       "        vertical-align: middle;\n",
       "    }\n",
       "\n",
       "    .dataframe tbody tr th {\n",
       "        vertical-align: top;\n",
       "    }\n",
       "\n",
       "    .dataframe thead th {\n",
       "        text-align: right;\n",
       "    }\n",
       "</style>\n",
       "<table border=\"1\" class=\"dataframe\">\n",
       "  <thead>\n",
       "    <tr style=\"text-align: right;\">\n",
       "      <th></th>\n",
       "      <th>Event Label</th>\n",
       "      <th>IPAddress</th>\n",
       "      <th>Total Events</th>\n",
       "      <th>Unique Events</th>\n",
       "      <th>Event Value</th>\n",
       "      <th>Avg. Value</th>\n",
       "    </tr>\n",
       "  </thead>\n",
       "  <tbody>\n",
       "    <tr>\n",
       "      <th>0</th>\n",
       "      <td>mind-body</td>\n",
       "      <td>100.1.116.150</td>\n",
       "      <td>1.0</td>\n",
       "      <td>1.0</td>\n",
       "      <td>0.0</td>\n",
       "      <td>0.0</td>\n",
       "    </tr>\n",
       "    <tr>\n",
       "      <th>1</th>\n",
       "      <td>only-treatments-known-to-work</td>\n",
       "      <td>100.1.116.150</td>\n",
       "      <td>1.0</td>\n",
       "      <td>1.0</td>\n",
       "      <td>0.0</td>\n",
       "      <td>0.0</td>\n",
       "    </tr>\n",
       "    <tr>\n",
       "      <th>2</th>\n",
       "      <td>try-on-your-own</td>\n",
       "      <td>100.1.116.150</td>\n",
       "      <td>1.0</td>\n",
       "      <td>1.0</td>\n",
       "      <td>0.0</td>\n",
       "      <td>0.0</td>\n",
       "    </tr>\n",
       "    <tr>\n",
       "      <th>3</th>\n",
       "      <td>mind-body</td>\n",
       "      <td>100.1.210.47</td>\n",
       "      <td>2.0</td>\n",
       "      <td>1.0</td>\n",
       "      <td>0.0</td>\n",
       "      <td>0.0</td>\n",
       "    </tr>\n",
       "  </tbody>\n",
       "</table>\n",
       "</div>"
      ],
      "text/plain": [
       "                     Event Label      IPAddress  Total Events  Unique Events  \\\n",
       "0                      mind-body  100.1.116.150           1.0            1.0   \n",
       "1  only-treatments-known-to-work  100.1.116.150           1.0            1.0   \n",
       "2                try-on-your-own  100.1.116.150           1.0            1.0   \n",
       "3                      mind-body   100.1.210.47           2.0            1.0   \n",
       "\n",
       "   Event Value  Avg. Value  \n",
       "0          0.0         0.0  \n",
       "1          0.0         0.0  \n",
       "2          0.0         0.0  \n",
       "3          0.0         0.0  "
      ]
     },
     "execution_count": 7,
     "metadata": {},
     "output_type": "execute_result"
    }
   ],
   "source": [
    "ga_data = pd.read_csv(\"C:/Users/huixin/Dropbox/research/menoplan/beta_phase/ga_data/02nov_decision_filter.csv\")\n",
    "ga_data = ga_data.rename(columns={'IP Address': 'IPAddress', 'Avg. Time on Page': 'muTimeOnPage'})\n",
    "ga_data.head(4)"
   ]
  },
  {
   "cell_type": "code",
   "execution_count": 8,
   "metadata": {},
   "outputs": [],
   "source": [
    "#ga_data = ga_data.drop(columns=[\"Event Value\", 'Avg. Value'])\n",
    "\n",
    "decisionFilPerId = ga_data.groupby(['IPAddress', 'Event Label'], as_index=False).agg({'Total Events':'mean'})\n",
    "#viewsPerPageById.columns = viewsPerPageById.columns.str.strip('/?=')\n",
    "#viewsPerPageById= viewsPerPageById.rename(columns={\"\": \"homepage\"})\n",
    "decisionFilPerId = decisionFilPerId.groupby(['IPAddress', 'Event Label'])['Total Events'].agg(\"mean\").unstack(level=1)\n",
    "ls = list(decisionFilPerId.columns)\n",
    "#ls\n",
    "\n",
    "r = re.compile('\\d*([.,\\/]?\\d+)')# use regex to find dates\n",
    "newlist = list(filter(r.match, ls))\n",
    "newlist.append(\"Day Index\") # create list of dates \n",
    "decisionFilPerId = decisionFilPerId.drop(columns=newlist) #we do not want the dates\n",
    "\n",
    "decisionFilPerId = decisionFilPerId.fillna(0)\n",
    "IPAdCol = list(decisionFilPerId.index)       \n",
    "IPCol = [x for x in IPAdCol if '.' in x]\n",
    "#decisionFilPerId = decisionFilPerId.groupby(['IPAddress', 'Event Label'])['Total Events'].agg(\"mean\").unstack(level=1)\n",
    "decisionFilPerId = decisionFilPerId.loc[IPCol]"
   ]
  },
  {
   "cell_type": "code",
   "execution_count": 9,
   "metadata": {},
   "outputs": [],
   "source": [
    "decisionFilPerId.to_csv(file_loc + \"decision_filter_clicks_nov02.csv\")"
   ]
  },
  {
   "cell_type": "code",
   "execution_count": 10,
   "metadata": {},
   "outputs": [
    {
     "data": {
      "text/html": [
       "<div>\n",
       "<style scoped>\n",
       "    .dataframe tbody tr th:only-of-type {\n",
       "        vertical-align: middle;\n",
       "    }\n",
       "\n",
       "    .dataframe tbody tr th {\n",
       "        vertical-align: top;\n",
       "    }\n",
       "\n",
       "    .dataframe thead th {\n",
       "        text-align: right;\n",
       "    }\n",
       "</style>\n",
       "<table border=\"1\" class=\"dataframe\">\n",
       "  <thead>\n",
       "    <tr style=\"text-align: right;\">\n",
       "      <th></th>\n",
       "      <th>Event Label</th>\n",
       "      <th>IPAddress</th>\n",
       "      <th>Total Events</th>\n",
       "      <th>Unique Events</th>\n",
       "      <th>Event Value</th>\n",
       "      <th>Avg. Value</th>\n",
       "    </tr>\n",
       "  </thead>\n",
       "  <tbody>\n",
       "    <tr>\n",
       "      <th>0</th>\n",
       "      <td>reproductive-years-result</td>\n",
       "      <td>99.93.208.84</td>\n",
       "      <td>1.0</td>\n",
       "      <td>1.0</td>\n",
       "      <td>0.0</td>\n",
       "      <td>0.0</td>\n",
       "    </tr>\n",
       "    <tr>\n",
       "      <th>1</th>\n",
       "      <td>reproductive-years-result</td>\n",
       "      <td>99.82.254.180</td>\n",
       "      <td>1.0</td>\n",
       "      <td>1.0</td>\n",
       "      <td>0.0</td>\n",
       "      <td>0.0</td>\n",
       "    </tr>\n",
       "    <tr>\n",
       "      <th>2</th>\n",
       "      <td>late-menopause-transition-result</td>\n",
       "      <td>99.8.85.105</td>\n",
       "      <td>1.0</td>\n",
       "      <td>1.0</td>\n",
       "      <td>0.0</td>\n",
       "      <td>0.0</td>\n",
       "    </tr>\n",
       "    <tr>\n",
       "      <th>3</th>\n",
       "      <td>uncertain-stage-result</td>\n",
       "      <td>99.32.58.89</td>\n",
       "      <td>1.0</td>\n",
       "      <td>1.0</td>\n",
       "      <td>0.0</td>\n",
       "      <td>0.0</td>\n",
       "    </tr>\n",
       "  </tbody>\n",
       "</table>\n",
       "</div>"
      ],
      "text/plain": [
       "                        Event Label      IPAddress  Total Events  \\\n",
       "0         reproductive-years-result   99.93.208.84           1.0   \n",
       "1         reproductive-years-result  99.82.254.180           1.0   \n",
       "2  late-menopause-transition-result    99.8.85.105           1.0   \n",
       "3            uncertain-stage-result    99.32.58.89           1.0   \n",
       "\n",
       "   Unique Events  Event Value  Avg. Value  \n",
       "0            1.0          0.0         0.0  \n",
       "1            1.0          0.0         0.0  \n",
       "2            1.0          0.0         0.0  \n",
       "3            1.0          0.0         0.0  "
      ]
     },
     "execution_count": 10,
     "metadata": {},
     "output_type": "execute_result"
    }
   ],
   "source": [
    "ga_data = pd.read_csv(\"C:/Users/huixin/Dropbox/research/menoplan/beta_phase/ga_data/02nov_am_i_in_menopause_results.csv\")\n",
    "ga_data = ga_data.rename(columns={'IP Address': 'IPAddress', 'Avg. Time on Page': 'muTimeOnPage'})\n",
    "ga_data.head(4)"
   ]
  },
  {
   "cell_type": "code",
   "execution_count": 11,
   "metadata": {},
   "outputs": [],
   "source": [
    "#group data by the same IP and Event Label, and aggregate if there are rows with same IP and Event Label by calculating the mean of those rows\n",
    "amIinMenopause = ga_data.groupby(['IPAddress', 'Event Label'], as_index=False).agg({'Total Events':'mean'})"
   ]
  },
  {
   "cell_type": "code",
   "execution_count": 12,
   "metadata": {},
   "outputs": [],
   "source": [
    "# Pivot a level of the (necessarily hierarchical) index labels\n",
    "amIinMenopause = amIinMenopause.groupby(['IPAddress', 'Event Label'])['Total Events'].agg(\"mean\").unstack(level=1)"
   ]
  },
  {
   "cell_type": "code",
   "execution_count": 13,
   "metadata": {},
   "outputs": [],
   "source": [
    "ls = list(amIinMenopause.columns)\n",
    "r = re.compile('\\d*([.,\\/]?\\d+)')# use regex to find dates\n",
    "newlist = list(filter(r.match, ls))\n",
    "newlist.append(\"Day Index\") # create list of dates \n",
    "amIinMenopause = amIinMenopause.drop(columns=newlist) #we do not want the dates\n",
    "\n",
    "amIinMenopause = amIinMenopause.fillna(0)\n",
    "IPAdCol = list(amIinMenopause.index)       \n",
    "IPCol = [x for x in IPAdCol if '.' in x]\n",
    "amIinMenopause = amIinMenopause.loc[IPCol]"
   ]
  },
  {
   "cell_type": "code",
   "execution_count": 14,
   "metadata": {},
   "outputs": [],
   "source": [
    "amIinMenopause.to_csv(file_loc + \"am_i_in_menopause_02nov.csv\")"
   ]
  },
  {
   "cell_type": "code",
   "execution_count": 25,
   "metadata": {},
   "outputs": [],
   "source": [
    "allEventsPerId = pd.concat([decisionFilPerId,  eventsPerId, amIinMenopause])\n",
    "allEventsPerId.to_csv(file_loc + \"allEventsPerId_02nov.csv\")"
   ]
  },
  {
   "cell_type": "code",
   "execution_count": 26,
   "metadata": {},
   "outputs": [],
   "source": []
  },
  {
   "cell_type": "code",
   "execution_count": null,
   "metadata": {},
   "outputs": [],
   "source": []
  }
 ],
 "metadata": {
  "kernelspec": {
   "display_name": "Python 3",
   "language": "python",
   "name": "python3"
  },
  "language_info": {
   "codemirror_mode": {
    "name": "ipython",
    "version": 3
   },
   "file_extension": ".py",
   "mimetype": "text/x-python",
   "name": "python",
   "nbconvert_exporter": "python",
   "pygments_lexer": "ipython3",
   "version": "3.7.6"
  }
 },
 "nbformat": 4,
 "nbformat_minor": 4
}
